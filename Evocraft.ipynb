{
  "nbformat": 4,
  "nbformat_minor": 0,
  "metadata": {
    "colab": {
      "name": "Evocraft.ipynb",
      "provenance": [],
      "collapsed_sections": []
    },
    "kernelspec": {
      "name": "python3",
      "display_name": "Python 3"
    },
    "language_info": {
      "name": "python"
    },
    "accelerator": "GPU",
    "widgets": {
      "application/vnd.jupyter.widget-state+json": {
        "a7dd0dac2701421c84ff8305ef751895": {
          "model_module": "@jupyter-widgets/controls",
          "model_name": "HBoxModel",
          "model_module_version": "1.5.0",
          "state": {
            "_dom_classes": [],
            "_model_module": "@jupyter-widgets/controls",
            "_model_module_version": "1.5.0",
            "_model_name": "HBoxModel",
            "_view_count": null,
            "_view_module": "@jupyter-widgets/controls",
            "_view_module_version": "1.5.0",
            "_view_name": "HBoxView",
            "box_style": "",
            "children": [
              "IPY_MODEL_3a297cbe18374783bc359bdcfa0911d1",
              "IPY_MODEL_4ddf0c3039014ed6b43430bf942efc14"
            ],
            "layout": "IPY_MODEL_0464203c3b7447a2bd8bac33d93c1aa0"
          }
        },
        "3a297cbe18374783bc359bdcfa0911d1": {
          "model_module": "@jupyter-widgets/controls",
          "model_name": "FloatProgressModel",
          "model_module_version": "1.5.0",
          "state": {
            "_dom_classes": [],
            "_model_module": "@jupyter-widgets/controls",
            "_model_module_version": "1.5.0",
            "_model_name": "FloatProgressModel",
            "_view_count": null,
            "_view_module": "@jupyter-widgets/controls",
            "_view_module_version": "1.5.0",
            "_view_name": "ProgressView",
            "bar_style": "success",
            "description": "",
            "description_tooltip": null,
            "layout": "IPY_MODEL_023384f24d094d60917aabbcf0152067",
            "max": 1,
            "min": 0,
            "orientation": "horizontal",
            "style": "IPY_MODEL_3485cdf946a34aaca8bb5a01c2ae86dc",
            "value": 1
          }
        },
        "4ddf0c3039014ed6b43430bf942efc14": {
          "model_module": "@jupyter-widgets/controls",
          "model_name": "HTMLModel",
          "model_module_version": "1.5.0",
          "state": {
            "_dom_classes": [],
            "_model_module": "@jupyter-widgets/controls",
            "_model_module_version": "1.5.0",
            "_model_name": "HTMLModel",
            "_view_count": null,
            "_view_module": "@jupyter-widgets/controls",
            "_view_module_version": "1.5.0",
            "_view_name": "HTMLView",
            "description": "",
            "description_tooltip": null,
            "layout": "IPY_MODEL_95e8d19ea9ef4fd0aa7e6ab862d705c7",
            "placeholder": "​",
            "style": "IPY_MODEL_b36da7998afe44469404810e54b8399a",
            "value": "100it [02:15,  1.35s/it]"
          }
        },
        "0464203c3b7447a2bd8bac33d93c1aa0": {
          "model_module": "@jupyter-widgets/base",
          "model_name": "LayoutModel",
          "model_module_version": "1.2.0",
          "state": {
            "_model_module": "@jupyter-widgets/base",
            "_model_module_version": "1.2.0",
            "_model_name": "LayoutModel",
            "_view_count": null,
            "_view_module": "@jupyter-widgets/base",
            "_view_module_version": "1.2.0",
            "_view_name": "LayoutView",
            "align_content": null,
            "align_items": null,
            "align_self": null,
            "border": null,
            "bottom": null,
            "display": null,
            "flex": null,
            "flex_flow": null,
            "grid_area": null,
            "grid_auto_columns": null,
            "grid_auto_flow": null,
            "grid_auto_rows": null,
            "grid_column": null,
            "grid_gap": null,
            "grid_row": null,
            "grid_template_areas": null,
            "grid_template_columns": null,
            "grid_template_rows": null,
            "height": null,
            "justify_content": null,
            "justify_items": null,
            "left": null,
            "margin": null,
            "max_height": null,
            "max_width": null,
            "min_height": null,
            "min_width": null,
            "object_fit": null,
            "object_position": null,
            "order": null,
            "overflow": null,
            "overflow_x": null,
            "overflow_y": null,
            "padding": null,
            "right": null,
            "top": null,
            "visibility": null,
            "width": null
          }
        },
        "023384f24d094d60917aabbcf0152067": {
          "model_module": "@jupyter-widgets/base",
          "model_name": "LayoutModel",
          "model_module_version": "1.2.0",
          "state": {
            "_model_module": "@jupyter-widgets/base",
            "_model_module_version": "1.2.0",
            "_model_name": "LayoutModel",
            "_view_count": null,
            "_view_module": "@jupyter-widgets/base",
            "_view_module_version": "1.2.0",
            "_view_name": "LayoutView",
            "align_content": null,
            "align_items": null,
            "align_self": null,
            "border": null,
            "bottom": null,
            "display": null,
            "flex": null,
            "flex_flow": null,
            "grid_area": null,
            "grid_auto_columns": null,
            "grid_auto_flow": null,
            "grid_auto_rows": null,
            "grid_column": null,
            "grid_gap": null,
            "grid_row": null,
            "grid_template_areas": null,
            "grid_template_columns": null,
            "grid_template_rows": null,
            "height": null,
            "justify_content": null,
            "justify_items": null,
            "left": null,
            "margin": null,
            "max_height": null,
            "max_width": null,
            "min_height": null,
            "min_width": null,
            "object_fit": null,
            "object_position": null,
            "order": null,
            "overflow": null,
            "overflow_x": null,
            "overflow_y": null,
            "padding": null,
            "right": null,
            "top": null,
            "visibility": null,
            "width": "20px"
          }
        },
        "3485cdf946a34aaca8bb5a01c2ae86dc": {
          "model_module": "@jupyter-widgets/controls",
          "model_name": "ProgressStyleModel",
          "model_module_version": "1.5.0",
          "state": {
            "_model_module": "@jupyter-widgets/controls",
            "_model_module_version": "1.5.0",
            "_model_name": "ProgressStyleModel",
            "_view_count": null,
            "_view_module": "@jupyter-widgets/base",
            "_view_module_version": "1.2.0",
            "_view_name": "StyleView",
            "bar_color": null,
            "description_width": "initial"
          }
        },
        "95e8d19ea9ef4fd0aa7e6ab862d705c7": {
          "model_module": "@jupyter-widgets/base",
          "model_name": "LayoutModel",
          "model_module_version": "1.2.0",
          "state": {
            "_model_module": "@jupyter-widgets/base",
            "_model_module_version": "1.2.0",
            "_model_name": "LayoutModel",
            "_view_count": null,
            "_view_module": "@jupyter-widgets/base",
            "_view_module_version": "1.2.0",
            "_view_name": "LayoutView",
            "align_content": null,
            "align_items": null,
            "align_self": null,
            "border": null,
            "bottom": null,
            "display": null,
            "flex": null,
            "flex_flow": null,
            "grid_area": null,
            "grid_auto_columns": null,
            "grid_auto_flow": null,
            "grid_auto_rows": null,
            "grid_column": null,
            "grid_gap": null,
            "grid_row": null,
            "grid_template_areas": null,
            "grid_template_columns": null,
            "grid_template_rows": null,
            "height": null,
            "justify_content": null,
            "justify_items": null,
            "left": null,
            "margin": null,
            "max_height": null,
            "max_width": null,
            "min_height": null,
            "min_width": null,
            "object_fit": null,
            "object_position": null,
            "order": null,
            "overflow": null,
            "overflow_x": null,
            "overflow_y": null,
            "padding": null,
            "right": null,
            "top": null,
            "visibility": null,
            "width": null
          }
        },
        "b36da7998afe44469404810e54b8399a": {
          "model_module": "@jupyter-widgets/controls",
          "model_name": "DescriptionStyleModel",
          "model_module_version": "1.5.0",
          "state": {
            "_model_module": "@jupyter-widgets/controls",
            "_model_module_version": "1.5.0",
            "_model_name": "DescriptionStyleModel",
            "_view_count": null,
            "_view_module": "@jupyter-widgets/base",
            "_view_module_version": "1.2.0",
            "_view_name": "StyleView",
            "description_width": ""
          }
        },
        "a1703e205078467c8036d4755b0137a6": {
          "model_module": "@jupyter-widgets/controls",
          "model_name": "HBoxModel",
          "model_module_version": "1.5.0",
          "state": {
            "_dom_classes": [],
            "_model_module": "@jupyter-widgets/controls",
            "_model_module_version": "1.5.0",
            "_model_name": "HBoxModel",
            "_view_count": null,
            "_view_module": "@jupyter-widgets/controls",
            "_view_module_version": "1.5.0",
            "_view_name": "HBoxView",
            "box_style": "",
            "children": [
              "IPY_MODEL_0a34d995b2124ba08e6bd47349939a7f",
              "IPY_MODEL_00f5862025e94e4a9df2de7037ed05fc"
            ],
            "layout": "IPY_MODEL_602d94c104b34638802cd3b83b8bd8b0"
          }
        },
        "0a34d995b2124ba08e6bd47349939a7f": {
          "model_module": "@jupyter-widgets/controls",
          "model_name": "FloatProgressModel",
          "model_module_version": "1.5.0",
          "state": {
            "_dom_classes": [],
            "_model_module": "@jupyter-widgets/controls",
            "_model_module_version": "1.5.0",
            "_model_name": "FloatProgressModel",
            "_view_count": null,
            "_view_module": "@jupyter-widgets/controls",
            "_view_module_version": "1.5.0",
            "_view_name": "ProgressView",
            "bar_style": "success",
            "description": "100%",
            "description_tooltip": null,
            "layout": "IPY_MODEL_212f3526b525499da071a77b9fe3c2e3",
            "max": 21,
            "min": 0,
            "orientation": "horizontal",
            "style": "IPY_MODEL_6d059944f5c64a7a89a6c55cff91f26c",
            "value": 21
          }
        },
        "00f5862025e94e4a9df2de7037ed05fc": {
          "model_module": "@jupyter-widgets/controls",
          "model_name": "HTMLModel",
          "model_module_version": "1.5.0",
          "state": {
            "_dom_classes": [],
            "_model_module": "@jupyter-widgets/controls",
            "_model_module_version": "1.5.0",
            "_model_name": "HTMLModel",
            "_view_count": null,
            "_view_module": "@jupyter-widgets/controls",
            "_view_module_version": "1.5.0",
            "_view_name": "HTMLView",
            "description": "",
            "description_tooltip": null,
            "layout": "IPY_MODEL_5a0f95577fc1422eb1b3b9ab283f8836",
            "placeholder": "​",
            "style": "IPY_MODEL_ebbc5f4879624f42a8c4f7916787bd4b",
            "value": " 21/21 [00:54&lt;00:00,  2.59s/it]"
          }
        },
        "602d94c104b34638802cd3b83b8bd8b0": {
          "model_module": "@jupyter-widgets/base",
          "model_name": "LayoutModel",
          "model_module_version": "1.2.0",
          "state": {
            "_model_module": "@jupyter-widgets/base",
            "_model_module_version": "1.2.0",
            "_model_name": "LayoutModel",
            "_view_count": null,
            "_view_module": "@jupyter-widgets/base",
            "_view_module_version": "1.2.0",
            "_view_name": "LayoutView",
            "align_content": null,
            "align_items": null,
            "align_self": null,
            "border": null,
            "bottom": null,
            "display": null,
            "flex": null,
            "flex_flow": null,
            "grid_area": null,
            "grid_auto_columns": null,
            "grid_auto_flow": null,
            "grid_auto_rows": null,
            "grid_column": null,
            "grid_gap": null,
            "grid_row": null,
            "grid_template_areas": null,
            "grid_template_columns": null,
            "grid_template_rows": null,
            "height": null,
            "justify_content": null,
            "justify_items": null,
            "left": null,
            "margin": null,
            "max_height": null,
            "max_width": null,
            "min_height": null,
            "min_width": null,
            "object_fit": null,
            "object_position": null,
            "order": null,
            "overflow": null,
            "overflow_x": null,
            "overflow_y": null,
            "padding": null,
            "right": null,
            "top": null,
            "visibility": null,
            "width": null
          }
        },
        "212f3526b525499da071a77b9fe3c2e3": {
          "model_module": "@jupyter-widgets/base",
          "model_name": "LayoutModel",
          "model_module_version": "1.2.0",
          "state": {
            "_model_module": "@jupyter-widgets/base",
            "_model_module_version": "1.2.0",
            "_model_name": "LayoutModel",
            "_view_count": null,
            "_view_module": "@jupyter-widgets/base",
            "_view_module_version": "1.2.0",
            "_view_name": "LayoutView",
            "align_content": null,
            "align_items": null,
            "align_self": null,
            "border": null,
            "bottom": null,
            "display": null,
            "flex": null,
            "flex_flow": null,
            "grid_area": null,
            "grid_auto_columns": null,
            "grid_auto_flow": null,
            "grid_auto_rows": null,
            "grid_column": null,
            "grid_gap": null,
            "grid_row": null,
            "grid_template_areas": null,
            "grid_template_columns": null,
            "grid_template_rows": null,
            "height": null,
            "justify_content": null,
            "justify_items": null,
            "left": null,
            "margin": null,
            "max_height": null,
            "max_width": null,
            "min_height": null,
            "min_width": null,
            "object_fit": null,
            "object_position": null,
            "order": null,
            "overflow": null,
            "overflow_x": null,
            "overflow_y": null,
            "padding": null,
            "right": null,
            "top": null,
            "visibility": null,
            "width": null
          }
        },
        "6d059944f5c64a7a89a6c55cff91f26c": {
          "model_module": "@jupyter-widgets/controls",
          "model_name": "ProgressStyleModel",
          "model_module_version": "1.5.0",
          "state": {
            "_model_module": "@jupyter-widgets/controls",
            "_model_module_version": "1.5.0",
            "_model_name": "ProgressStyleModel",
            "_view_count": null,
            "_view_module": "@jupyter-widgets/base",
            "_view_module_version": "1.2.0",
            "_view_name": "StyleView",
            "bar_color": null,
            "description_width": "initial"
          }
        },
        "5a0f95577fc1422eb1b3b9ab283f8836": {
          "model_module": "@jupyter-widgets/base",
          "model_name": "LayoutModel",
          "model_module_version": "1.2.0",
          "state": {
            "_model_module": "@jupyter-widgets/base",
            "_model_module_version": "1.2.0",
            "_model_name": "LayoutModel",
            "_view_count": null,
            "_view_module": "@jupyter-widgets/base",
            "_view_module_version": "1.2.0",
            "_view_name": "LayoutView",
            "align_content": null,
            "align_items": null,
            "align_self": null,
            "border": null,
            "bottom": null,
            "display": null,
            "flex": null,
            "flex_flow": null,
            "grid_area": null,
            "grid_auto_columns": null,
            "grid_auto_flow": null,
            "grid_auto_rows": null,
            "grid_column": null,
            "grid_gap": null,
            "grid_row": null,
            "grid_template_areas": null,
            "grid_template_columns": null,
            "grid_template_rows": null,
            "height": null,
            "justify_content": null,
            "justify_items": null,
            "left": null,
            "margin": null,
            "max_height": null,
            "max_width": null,
            "min_height": null,
            "min_width": null,
            "object_fit": null,
            "object_position": null,
            "order": null,
            "overflow": null,
            "overflow_x": null,
            "overflow_y": null,
            "padding": null,
            "right": null,
            "top": null,
            "visibility": null,
            "width": null
          }
        },
        "ebbc5f4879624f42a8c4f7916787bd4b": {
          "model_module": "@jupyter-widgets/controls",
          "model_name": "DescriptionStyleModel",
          "model_module_version": "1.5.0",
          "state": {
            "_model_module": "@jupyter-widgets/controls",
            "_model_module_version": "1.5.0",
            "_model_name": "DescriptionStyleModel",
            "_view_count": null,
            "_view_module": "@jupyter-widgets/base",
            "_view_module_version": "1.2.0",
            "_view_name": "StyleView",
            "description_width": ""
          }
        }
      }
    }
  },
  "cells": [
    {
      "cell_type": "markdown",
      "source": [
        "Adapted from Pixray: https://github.com/pixray/"
      ],
      "metadata": {
        "id": "6pJHwmu1BeEh"
      }
    },
    {
      "cell_type": "code",
      "metadata": {
        "id": "KnEJayeYBO3b"
      },
      "source": [
        "#@title pixray_install\n",
        "#@markdown Run this once, then \"Restart and Run all\"\n",
        "%%capture\n",
        "pixray_version = \"latest release\" #@param [\"latest release\", \"next planned release\"]\n",
        "branch = \"release\"\n",
        "if pixray_version == \"next planned release\":\n",
        "  branch = \"master\"\n",
        "!rm -Rf pixray\n",
        "!git clone --recursive --branch $branch https://github.com/pixray/pixray\n",
        "!pip install -r pixray/requirements.txt\n",
        "!pip install basicsr\n",
        "!pip uninstall -y tensorflow \n",
        "!git clone https://github.com/pixray/diffvg\n",
        "%cd diffvg\n",
        "!git submodule update --init --recursive\n",
        "!python setup.py install\n",
        "%cd ..\n",
        "!pip freeze | grep torch\n",
        "\n",
        "import sys\n",
        "sys.path.append(\"pixray\")\n",
        "import pixray"
      ],
      "execution_count": 1,
      "outputs": []
    },
    {
      "cell_type": "code",
      "source": [
        "#@title OpenAI install{ vertical-output: true }\n",
        "%%capture\n",
        "!pip install openai\n",
        "import openai\n",
        "openai.api_key = \"NULL\""
      ],
      "metadata": {
        "id": "tZT3KZMdjr6F"
      },
      "execution_count": null,
      "outputs": []
    },
    {
      "cell_type": "code",
      "source": [
        "#@title Open-Ended Language Evolution{ vertical-output: true }\n",
        "import json\n",
        "\n",
        "def get_children(noun):\n",
        "    prompt = \"In a comma-separated list, give me ten one-word nouns related to '{}':\"\n",
        "    prompt = prompt.format(noun)\n",
        "    # print(prompt)\n",
        "    response = openai.Completion.create(\n",
        "        engine=\"text-davinci-001\",\n",
        "        prompt=prompt,\n",
        "        temperature=0,\n",
        "        max_tokens=50,\n",
        "    )[\"choices\"][0].text\n",
        "    if ',' in response:\n",
        "        children = response.split(\",\")\n",
        "    if '.' in response:\n",
        "        children = response.split()\n",
        "        children = [c for c in children if len(c) > 2]\n",
        "    return [x.strip().strip(',').lower() for x in children]\n",
        "\n",
        "max_depth = 2\n",
        "def recurse_lang(noun, depth, history, tree):\n",
        "    history.append(noun)\n",
        "    print(''.join([\"  \"] * depth) + noun)\n",
        "    new_tree = (noun, [])\n",
        "    tree[1].append(new_tree)\n",
        "    if depth < max_depth:\n",
        "        children = get_children(noun)\n",
        "        new_children = [i for i in children if i not in history]\n",
        "        for c in new_children[:5]:\n",
        "            recurse_lang(c, depth+1, history, new_tree)\n",
        "\n",
        "history = []\n",
        "tree = ('', [])\n",
        "recurse_lang('apple', 0, history, tree)\n",
        "print(json.dumps(tree))\n",
        "    \n"
      ],
      "metadata": {
        "colab": {
          "base_uri": "https://localhost:8080/"
        },
        "id": "BAWxq-ooiDgy",
        "outputId": "e29d42e1-3ff8-4bdf-abfb-471467e90de9"
      },
      "execution_count": null,
      "outputs": [
        {
          "output_type": "stream",
          "name": "stdout",
          "text": [
            "apple\n",
            "  fruit\n",
            "    banana\n",
            "    blueberry\n",
            "    cherry\n",
            "    date\n",
            "    fig\n",
            "  red\n",
            "    scarlet\n",
            "    burgundy\n",
            "    crimson\n",
            "    cardinal\n",
            "    auburn\n",
            "  green\n",
            "    tree\n",
            "    leaves\n",
            "    grass\n",
            "    shrub\n",
            "    forest\n",
            "  tart\n",
            "    pastry\n",
            "    pie\n",
            "    dessert\n",
            "    sweet\n",
            "    food\n",
            "  sweet\n",
            "    cake\n",
            "    candy\n",
            "    chocolate\n",
            "    ice cream\n",
            "    sugar\n",
            "[\"\", [[\"apple\", [[\"fruit\", [[\"banana\", []], [\"blueberry\", []], [\"cherry\", []], [\"date\", []], [\"fig\", []]]], [\"red\", [[\"scarlet\", []], [\"burgundy\", []], [\"crimson\", []], [\"cardinal\", []], [\"auburn\", []]]], [\"green\", [[\"tree\", []], [\"leaves\", []], [\"grass\", []], [\"shrub\", []], [\"forest\", []]]], [\"tart\", [[\"pastry\", []], [\"pie\", []], [\"dessert\", []], [\"sweet\", []], [\"food\", []]]], [\"sweet\", [[\"cake\", []], [\"candy\", []], [\"chocolate\", []], [\"ice cream\", []], [\"sugar\", []]]]]]]]\n"
          ]
        }
      ]
    },
    {
      "cell_type": "code",
      "source": [
        "#@title Generate pixel art{ vertical-output: true }\n",
        "#pixel\n",
        "import shutil\n",
        "import os\n",
        "\n",
        "if not os.path.isdir('imgs'):\n",
        "    os.mkdir('imgs')\n",
        "\n",
        "def make_image(noun, start_img=None):\n",
        "    pixray.run(\n",
        "        \"an icon of a {} #pixelart\".format(noun),\n",
        "        \"fast_pixel\",\n",
        "        quality=\"better\",\n",
        "        size=[128,128],\n",
        "        pixel_size= [16, 16],\n",
        "        scale=1,\n",
        "        iterations=100,\n",
        "        outdir='outputs/{}'.format(noun)\n",
        "    )\n",
        "    shutil.copyfile('outputs/{}/output.png'.format(noun), 'imgs/{}.png'.format(noun))\n",
        "\n",
        "make_image('apple')\n",
        "# for noun in history:\n",
        "#     make_image(noun)\n"
      ],
      "metadata": {
        "id": "be8HytqiDFFk",
        "colab": {
          "base_uri": "https://localhost:8080/",
          "height": 1000,
          "referenced_widgets": [
            "a7dd0dac2701421c84ff8305ef751895",
            "3a297cbe18374783bc359bdcfa0911d1",
            "4ddf0c3039014ed6b43430bf942efc14",
            "0464203c3b7447a2bd8bac33d93c1aa0",
            "023384f24d094d60917aabbcf0152067",
            "3485cdf946a34aaca8bb5a01c2ae86dc",
            "95e8d19ea9ef4fd0aa7e6ab862d705c7",
            "b36da7998afe44469404810e54b8399a",
            "a1703e205078467c8036d4755b0137a6",
            "0a34d995b2124ba08e6bd47349939a7f",
            "00f5862025e94e4a9df2de7037ed05fc",
            "602d94c104b34638802cd3b83b8bd8b0",
            "212f3526b525499da071a77b9fe3c2e3",
            "6d059944f5c64a7a89a6c55cff91f26c",
            "5a0f95577fc1422eb1b3b9ab283f8836",
            "ebbc5f4879624f42a8c4f7916787bd4b"
          ]
        },
        "outputId": "7a74e41f-6746-471e-8519-80013714426e"
      },
      "execution_count": null,
      "outputs": [
        {
          "output_type": "stream",
          "name": "stderr",
          "text": [
            "\r  0%|                                               | 0.00/244M [00:00<?, ?iB/s]"
          ]
        },
        {
          "output_type": "stream",
          "name": "stdout",
          "text": [
            "Using seed: 4551945702162696730\n",
            "Running fast pixeldrawer with 16x16 grid\n"
          ]
        },
        {
          "output_type": "stream",
          "name": "stderr",
          "text": [
            "100%|███████████████████████████████████████| 244M/244M [00:03<00:00, 65.7MiB/s]\n",
            "  0%|                                               | 0.00/338M [00:00<?, ?iB/s]"
          ]
        },
        {
          "output_type": "stream",
          "name": "stdout",
          "text": [
            "Loaded CLIP RN50: 224x224 and 102.01M params\n"
          ]
        },
        {
          "output_type": "stream",
          "name": "stderr",
          "text": [
            "100%|███████████████████████████████████████| 338M/338M [00:05<00:00, 63.5MiB/s]\n",
            "  0%|                                      | 1.05M/335M [00:00<00:31, 10.9MiB/s]"
          ]
        },
        {
          "output_type": "stream",
          "name": "stdout",
          "text": [
            "Loaded CLIP ViT-B/32: 224x224 and 151.28M params\n"
          ]
        },
        {
          "output_type": "stream",
          "name": "stderr",
          "text": [
            "100%|███████████████████████████████████████| 335M/335M [00:05<00:00, 62.2MiB/s]\n"
          ]
        },
        {
          "output_type": "stream",
          "name": "stdout",
          "text": [
            "Loaded CLIP ViT-B/16: 224x224 and 149.62M params\n",
            "Using device: cuda:0\n",
            "Optimising using: Adam\n",
            "Using text prompts: ['an icon of a apple #pixelart']\n"
          ]
        },
        {
          "output_type": "display_data",
          "data": {
            "text/plain": [
              "HBox(children=(FloatProgress(value=1.0, bar_style='info', layout=Layout(width='20px'), max=1.0), HTML(value=''…"
            ],
            "application/vnd.jupyter.widget-view+json": {
              "version_major": 2,
              "version_minor": 0,
              "model_id": "a7dd0dac2701421c84ff8305ef751895"
            }
          },
          "metadata": {}
        },
        {
          "output_type": "display_data",
          "data": {
            "image/png": "[encoded data removed]",
            "text/plain": [
              "<IPython.core.display.Image object>"
            ]
          },
          "metadata": {}
        },
        {
          "output_type": "stream",
          "name": "stdout",
          "text": [
            "iter: 0, loss: 2.99, losses: 0.983, 0.0835, 0.894, 0.0651, 0.892, 0.0684 (-0=>2.987)\n",
            "iter: 10, loss: 2.75, losses: 0.908, 0.0868, 0.811, 0.066, 0.815, 0.0659 (-0=>2.752)\n"
          ]
        },
        {
          "output_type": "display_data",
          "data": {
            "image/png": "[encoded data removed]",
            "text/plain": [
              "<IPython.core.display.Image object>"
            ]
          },
          "metadata": {}
        },
        {
          "output_type": "stream",
          "name": "stdout",
          "text": [
            "iter: 20, loss: 2.67, losses: 0.891, 0.0886, 0.778, 0.0678, 0.777, 0.0666 (-1=>2.663)\n",
            "iter: 30, loss: 2.61, losses: 0.887, 0.088, 0.739, 0.0696, 0.757, 0.0679 (-1=>2.565)\n"
          ]
        },
        {
          "output_type": "display_data",
          "data": {
            "image/png": "[encoded data removed]",
            "text/plain": [
              "<IPython.core.display.Image object>"
            ]
          },
          "metadata": {}
        },
        {
          "output_type": "stream",
          "name": "stdout",
          "text": [
            "iter: 40, loss: 2.51, losses: 0.862, 0.0868, 0.708, 0.0701, 0.713, 0.0684 (-1=>2.473)\n",
            "iter: 50, loss: 2.49, losses: 0.839, 0.0897, 0.703, 0.0717, 0.716, 0.0685 (-1=>2.441)\n"
          ]
        },
        {
          "output_type": "display_data",
          "data": {
            "image/png": "[encoded data removed]",
            "text/plain": [
              "<IPython.core.display.Image object>"
            ]
          },
          "metadata": {}
        },
        {
          "output_type": "stream",
          "name": "stdout",
          "text": [
            "iter: 60, loss: 2.43, losses: 0.828, 0.0891, 0.685, 0.0729, 0.69, 0.0694 (-0=>2.434)\n",
            "iter: 70, loss: 2.42, losses: 0.811, 0.0887, 0.687, 0.0733, 0.695, 0.069 (-2=>2.414)\n",
            "Dropping learning rate\n"
          ]
        },
        {
          "output_type": "display_data",
          "data": {
            "image/png": "[encoded data removed]",
            "text/plain": [
              "<IPython.core.display.Image object>"
            ]
          },
          "metadata": {}
        },
        {
          "output_type": "stream",
          "name": "stdout",
          "text": [
            "iter: 80, loss: 2.4, losses: 0.805, 0.0907, 0.669, 0.0734, 0.688, 0.0694 (-0=>2.396)\n",
            "iter: 90, loss: 2.36, losses: 0.788, 0.0905, 0.663, 0.0748, 0.678, 0.0691 (-4=>2.346)\n"
          ]
        },
        {
          "output_type": "display_data",
          "data": {
            "image/png": "[encoded data removed]",
            "text/plain": [
              "<IPython.core.display.Image object>"
            ]
          },
          "metadata": {}
        },
        {
          "output_type": "stream",
          "name": "stdout",
          "text": [
            "\riter: 100, finished (-5=>2.344)\n",
            "\n"
          ]
        },
        {
          "output_type": "display_data",
          "data": {
            "text/plain": [
              "HBox(children=(FloatProgress(value=0.0, max=21.0), HTML(value='')))"
            ],
            "application/vnd.jupyter.widget-view+json": {
              "version_major": 2,
              "version_minor": 0,
              "model_id": "a1703e205078467c8036d4755b0137a6"
            }
          },
          "metadata": {}
        },
        {
          "output_type": "stream",
          "name": "stdout",
          "text": [
            "\n"
          ]
        }
      ]
    },
    {
      "cell_type": "code",
      "source": [
        "pixray.best_loss"
      ],
      "metadata": {
        "colab": {
          "base_uri": "https://localhost:8080/"
        },
        "id": "xEOK9aLbZIDP",
        "outputId": "ea25996d-a30b-4a1a-ad0a-b453191062ec"
      },
      "execution_count": null,
      "outputs": [
        {
          "output_type": "execute_result",
          "data": {
            "text/plain": [
              "tensor(2.3442, device='cuda:0')"
            ]
          },
          "metadata": {},
          "execution_count": 4
        }
      ]
    },
    {
      "cell_type": "code",
      "source": [
        "!zip -r imgs.zip imgs"
      ],
      "metadata": {
        "colab": {
          "base_uri": "https://localhost:8080/"
        },
        "id": "UxI9VdaypEEM",
        "outputId": "ee731983-4068-41b8-aeb7-060d3de20253"
      },
      "execution_count": null,
      "outputs": [
        {
          "output_type": "stream",
          "name": "stdout",
          "text": [
            "  adding: imgs/ (stored 0%)\n",
            "  adding: imgs/pastry.png (deflated 15%)\n",
            "  adding: imgs/fruit.png (deflated 15%)\n",
            "  adding: imgs/food.png (deflated 14%)\n",
            "  adding: imgs/tart.png (deflated 14%)\n",
            "  adding: imgs/tree.png (deflated 15%)\n",
            "  adding: imgs/banana.png (deflated 15%)\n",
            "  adding: imgs/auburn.png (deflated 15%)\n",
            "  adding: imgs/sweet.png (deflated 15%)\n",
            "  adding: imgs/sugar.png (deflated 15%)\n",
            "  adding: imgs/leaves.png (deflated 14%)\n",
            "  adding: imgs/dessert.png (deflated 15%)\n",
            "  adding: imgs/apple.png (deflated 14%)\n",
            "  adding: imgs/chocolate.png (deflated 15%)\n",
            "  adding: imgs/crimson.png (deflated 14%)\n",
            "  adding: imgs/pie.png (deflated 14%)\n",
            "  adding: imgs/fig.png (deflated 14%)\n",
            "  adding: imgs/cherry.png (deflated 14%)\n",
            "  adding: imgs/red.png (deflated 14%)\n",
            "  adding: imgs/burgundy.png (deflated 15%)\n",
            "  adding: imgs/blueberry.png (deflated 14%)\n",
            "  adding: imgs/date.png (deflated 15%)\n",
            "  adding: imgs/grass.png (deflated 14%)\n",
            "  adding: imgs/cardinal.png (deflated 15%)\n",
            "  adding: imgs/ice cream.png (deflated 14%)\n",
            "  adding: imgs/cake.png (deflated 15%)\n",
            "  adding: imgs/forest.png (deflated 14%)\n",
            "  adding: imgs/scarlet.png (deflated 14%)\n",
            "  adding: imgs/candy.png (deflated 14%)\n",
            "  adding: imgs/green.png (deflated 15%)\n",
            "  adding: imgs/shrub.png (deflated 14%)\n"
          ]
        }
      ]
    }
  ]
}