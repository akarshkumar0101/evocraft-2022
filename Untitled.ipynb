{
 "cells": [
  {
   "cell_type": "code",
   "execution_count": 1,
   "id": "1e81368f-3f83-415c-83a9-811f073aca4f",
   "metadata": {},
   "outputs": [
    {
     "name": "stdout",
     "output_type": "stream",
     "text": [
      "hello\n"
     ]
    }
   ],
   "source": [
    "print('hello')"
   ]
  },
  {
   "cell_type": "code",
   "execution_count": null,
   "id": "0e8a43d5-a461-417d-9011-20eeefffe8a1",
   "metadata": {},
   "outputs": [],
   "source": []
  },
  {
   "cell_type": "code",
   "execution_count": 2,
   "id": "e688d294-4cbd-4b20-b04f-0c8c479d4e44",
   "metadata": {},
   "outputs": [],
   "source": [
    "import torch"
   ]
  },
  {
   "cell_type": "code",
   "execution_count": null,
   "id": "2d1f172b-3ed0-4868-8f51-2069183df50c",
   "metadata": {},
   "outputs": [],
   "source": []
  },
  {
   "cell_type": "code",
   "execution_count": null,
   "id": "b6d120c8-7e51-4764-b878-400fb90f4821",
   "metadata": {},
   "outputs": [],
   "source": []
  },
  {
   "cell_type": "code",
   "execution_count": null,
   "id": "1fde7458-25fe-47e4-8b95-82d3eee1b261",
   "metadata": {},
   "outputs": [],
   "source": []
  },
  {
   "cell_type": "code",
   "execution_count": null,
   "id": "d308368f-72e7-4e3a-8900-2b4117f24f9c",
   "metadata": {},
   "outputs": [],
   "source": []
  },
  {
   "cell_type": "code",
   "execution_count": null,
   "id": "c5064ee7-11f3-4f94-90cd-22650063b4f0",
   "metadata": {},
   "outputs": [],
   "source": []
  },
  {
   "cell_type": "code",
   "execution_count": 3,
   "id": "fb101e27-a755-4c3b-9e98-2af6394f0d64",
   "metadata": {},
   "outputs": [
    {
     "data": {
      "text/plain": [
       "['spoon',\n",
       " 'silver',\n",
       " 'kitchen',\n",
       " 'wooden',\n",
       " 'cuttingboards',\n",
       " 'pots',\n",
       " 'pans',\n",
       " 'stockpots',\n",
       " 'handles',\n",
       " 'dutch',\n",
       " 'sequin',\n",
       " 'ducat',\n",
       " 'jewelry',\n",
       " 'tiara',\n",
       " 'brooch',\n",
       " 'ornament',\n",
       " 'countertops',\n",
       " 'slicing',\n",
       " 'knives',\n",
       " 'pepperoni',\n",
       " 'garlic',\n",
       " 'olive',\n",
       " 'plank',\n",
       " 'rafter',\n",
       " 'joist',\n",
       " 'needle',\n",
       " 'color',\n",
       " 'thread',\n",
       " 'tulips',\n",
       " 'dikes',\n",
       " 'windmills',\n",
       " 'estate',\n",
       " 'riches',\n",
       " 'coin',\n",
       " 'turbine',\n",
       " 'mill',\n",
       " 'force',\n",
       " 'tapemeasure',\n",
       " 'fabricmarker',\n",
       " 'seamripper',\n",
       " 'generator',\n",
       " 'propeller',\n",
       " 'compressor',\n",
       " 'quartz',\n",
       " 'marble',\n",
       " 'granite',\n",
       " 'leaves',\n",
       " 'mediterranean',\n",
       " 'fruit',\n",
       " 'jug',\n",
       " 'pitcher',\n",
       " 'cauldron',\n",
       " 'illustration',\n",
       " 'pen',\n",
       " 'textile',\n",
       " 'copper',\n",
       " 'dime',\n",
       " 'two-dollar',\n",
       " 'rendering',\n",
       " 'sketching',\n",
       " 'painting',\n",
       " 'bottle',\n",
       " 'vase',\n",
       " 'urn',\n",
       " 'clippers',\n",
       " 'seam',\n",
       " 'snips',\n",
       " 'apparatus',\n",
       " 'instrument',\n",
       " 'electricity',\n",
       " 'renderingengine',\n",
       " 'renderingservice',\n",
       " 'renderingfarm',\n",
       " 'shuttle',\n",
       " 'bobbin',\n",
       " 'spool',\n",
       " 'basin',\n",
       " 'kettle',\n",
       " 'saucepan',\n",
       " 'drawer',\n",
       " 'lever',\n",
       " 'handlebar',\n",
       " 'mistletoe',\n",
       " 'ivy',\n",
       " 'pine',\n",
       " 'gardening',\n",
       " 'outdoors',\n",
       " 'flowers',\n",
       " 'boulder',\n",
       " 'pebble',\n",
       " 'cobblestone',\n",
       " 'black',\n",
       " 'pink',\n",
       " 'white']"
      ]
     },
     "execution_count": 3,
     "metadata": {},
     "output_type": "execute_result"
    }
   ],
   "source": [
    "torch.load('outputs/pop.pth')"
   ]
  },
  {
   "cell_type": "code",
   "execution_count": null,
   "id": "714b547b-8fa0-46c2-aab7-843874c0d75e",
   "metadata": {},
   "outputs": [],
   "source": []
  },
  {
   "cell_type": "code",
   "execution_count": null,
   "id": "ca772957-bcc1-465d-91c4-2a6e80910a3d",
   "metadata": {},
   "outputs": [],
   "source": []
  },
  {
   "cell_type": "code",
   "execution_count": null,
   "id": "f852f0ae-8af9-4a30-b083-6b369094a7e3",
   "metadata": {},
   "outputs": [],
   "source": []
  },
  {
   "cell_type": "code",
   "execution_count": 26,
   "id": "5238c252-d712-4564-8f41-6a5d9d996d95",
   "metadata": {},
   "outputs": [],
   "source": [
    "pop = torch.load('outputs2/pop.pth')\n",
    "parent_data = torch.load('outputs2/parent_data.pth')"
   ]
  },
  {
   "cell_type": "code",
   "execution_count": null,
   "id": "8ae2f2c3-a4f6-4062-87f7-0716bc6c041b",
   "metadata": {},
   "outputs": [],
   "source": []
  },
  {
   "cell_type": "code",
   "execution_count": null,
   "id": "a6bf38ae-3135-4956-8e2c-37194453405e",
   "metadata": {},
   "outputs": [],
   "source": []
  },
  {
   "cell_type": "code",
   "execution_count": 27,
   "id": "a4e5796d-b9c4-426c-bf98-98dc898c63b8",
   "metadata": {},
   "outputs": [],
   "source": [
    "from anytree import Node, RenderTree\n",
    "\n",
    "nodes = {pop[0]: Node(pop[0])}\n",
    "\n",
    "for n in pop:\n",
    "    if n in parent_data:\n",
    "        # print(nodes)\n",
    "        # print(f'{n}\\'s parent: {parent_data[n]}')\n",
    "        nodes[n] = Node(n, parent=nodes[parent_data[n]])\n",
    "        "
   ]
  },
  {
   "cell_type": "code",
   "execution_count": null,
   "id": "36bb4c59-51f9-4886-977f-580bca31f1f2",
   "metadata": {},
   "outputs": [],
   "source": []
  },
  {
   "cell_type": "code",
   "execution_count": null,
   "id": "a4792b91-0676-4c2e-9037-e9046938c2e3",
   "metadata": {},
   "outputs": [],
   "source": []
  },
  {
   "cell_type": "code",
   "execution_count": 28,
   "id": "504a78c2-741c-4c46-a8ba-9e4a59dd6c11",
   "metadata": {},
   "outputs": [],
   "source": [
    "from anytree.exporter import DotExporter\n",
    "# graphviz needs to be installed for the next line!\n",
    "DotExporter(nodes[pop[0]]).to_picture(\"udo.png\")"
   ]
  },
  {
   "cell_type": "code",
   "execution_count": null,
   "id": "110599d5-626d-49d3-a9b0-73f43bce6253",
   "metadata": {},
   "outputs": [],
   "source": []
  },
  {
   "cell_type": "code",
   "execution_count": null,
   "id": "6c0bf571-9b86-4d04-beca-5e39f0e31647",
   "metadata": {},
   "outputs": [],
   "source": []
  },
  {
   "cell_type": "code",
   "execution_count": 43,
   "id": "a59b0702-1f2d-47ef-ad15-1fc51c4eb783",
   "metadata": {},
   "outputs": [],
   "source": [
    "import matplotlib.pyplot as plt"
   ]
  },
  {
   "cell_type": "code",
   "execution_count": 29,
   "id": "8908998f-239d-402b-b8bf-43c24cb69cb2",
   "metadata": {},
   "outputs": [],
   "source": [
    "pop = torch.load('outputs2/pop.pth')"
   ]
  },
  {
   "cell_type": "code",
   "execution_count": 31,
   "id": "a5e449ae-75a2-429d-a7f4-660bb7a00e89",
   "metadata": {},
   "outputs": [],
   "source": [
    "import clip"
   ]
  },
  {
   "cell_type": "code",
   "execution_count": 36,
   "id": "82cbbeca-1abd-4a3f-9034-a3ed15dd8418",
   "metadata": {},
   "outputs": [],
   "source": [
    "device = \"cuda\" if torch.cuda.is_available() else \"cpu\"\n",
    "model, preprocess = clip.load(\"ViT-B/32\", device=device)\n",
    "\n",
    "def calc_text_features(texts, normalize=True):\n",
    "    x = clip.tokenize(texts).to(device)\n",
    "    with torch.no_grad():\n",
    "        x = model.encode_text(x).detach()\n",
    "    if normalize:\n",
    "        x = x/x.norm(dim=-1, keepdim=True)\n",
    "    return x.detach().cpu()"
   ]
  },
  {
   "cell_type": "code",
   "execution_count": 48,
   "id": "87751170-1498-45d9-86d8-9ae449b22b57",
   "metadata": {},
   "outputs": [],
   "source": [
    "x = calc_text_features(pop)"
   ]
  },
  {
   "cell_type": "code",
   "execution_count": 51,
   "id": "56f56743-c7d1-4c07-8cf9-043131c01574",
   "metadata": {},
   "outputs": [
    {
     "data": {
      "text/plain": [
       "[<matplotlib.lines.Line2D at 0x2ba289ec7430>]"
      ]
     },
     "execution_count": 51,
     "metadata": {},
     "output_type": "execute_result"
    },
    {
     "data": {
      "image/png": "[encoded data removed]",
      "text/plain": [
       "<Figure size 432x288 with 1 Axes>"
      ]
     },
     "metadata": {
      "needs_background": "light"
     },
     "output_type": "display_data"
    }
   ],
   "source": [
    "graph = []\n",
    "for i in range(5, len(x)):\n",
    "    a = x[:i]\n",
    "    # print(a.shape)\n",
    "    last = a[[-1]]\n",
    "    rest = a[:-1]\n",
    "    # print(last.shape)\n",
    "    # print(rest.shape)\n",
    "    \n",
    "    graph.append((rest@last.T)[:, 0].max().item())\n",
    "    \n",
    "    # graph.append((a@a.T).mean().item())\n",
    "    \n",
    "    # break\n",
    "\n",
    "plt.plot(graph)"
   ]
  },
  {
   "cell_type": "code",
   "execution_count": null,
   "id": "adf40a6f-ec01-468d-b4ea-466999c41514",
   "metadata": {},
   "outputs": [],
   "source": []
  },
  {
   "cell_type": "code",
   "execution_count": null,
   "id": "03699a87-2fe9-4b06-83a5-c45c59373381",
   "metadata": {},
   "outputs": [],
   "source": []
  },
  {
   "cell_type": "code",
   "execution_count": null,
   "id": "ebecffcd-7df7-43ce-8c88-8224abd86ae6",
   "metadata": {},
   "outputs": [],
   "source": []
  },
  {
   "cell_type": "code",
   "execution_count": null,
   "id": "908aa27c-e0ab-4ad5-bff0-d8a3a639c26c",
   "metadata": {},
   "outputs": [],
   "source": []
  },
  {
   "cell_type": "code",
   "execution_count": null,
   "id": "1a3c11bf-bbb5-4d7c-9e3e-743c053adae2",
   "metadata": {},
   "outputs": [],
   "source": []
  },
  {
   "cell_type": "code",
   "execution_count": null,
   "id": "9c4639a4-b7bc-4e71-855d-f20ae4a51482",
   "metadata": {},
   "outputs": [],
   "source": []
  }
 ],
 "metadata": {
  "kernelspec": {
   "display_name": "Python 3 (ipykernel)",
   "language": "python",
   "name": "python3"
  },
  "language_info": {
   "codemirror_mode": {
    "name": "ipython",
    "version": 3
   },
   "file_extension": ".py",
   "mimetype": "text/x-python",
   "name": "python",
   "nbconvert_exporter": "python",
   "pygments_lexer": "ipython3",
   "version": "3.8.13"
  }
 },
 "nbformat": 4,
 "nbformat_minor": 5
}
