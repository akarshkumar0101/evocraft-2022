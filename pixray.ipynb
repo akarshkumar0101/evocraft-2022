{
 "cells": [
  {
   "cell_type": "code",
   "execution_count": 2,
   "id": "1fb38364-000b-4b2d-a46c-996cdf84f8b3",
   "metadata": {},
   "outputs": [
    {
     "data": {
      "text/plain": [
       "'/work/08258/akumar01/maverick2/miniconda3/envs/evocraft/bin/python'"
      ]
     },
     "execution_count": 2,
     "metadata": {},
     "output_type": "execute_result"
    }
   ],
   "source": [
    "import sys\n",
    "sys.executable"
   ]
  },
  {
   "cell_type": "code",
   "execution_count": 3,
   "id": "40d0a0e0-3ee3-4990-801b-ffd64ebb251f",
   "metadata": {},
   "outputs": [],
   "source": [
    "sys.path.append('pixray')"
   ]
  },
  {
   "cell_type": "code",
   "execution_count": 4,
   "id": "ff7412c5-2c8b-43b8-8642-20765f5b9145",
   "metadata": {},
   "outputs": [
    {
     "name": "stdout",
     "output_type": "stream",
     "text": [
      "--> Not running with pydiffvg drawer support  No module named 'pydiffvg'\n"
     ]
    }
   ],
   "source": [
    "import pixray"
   ]
  },
  {
   "cell_type": "code",
   "execution_count": 7,
   "id": "8fd46839-83ad-4e90-b7ad-7136001ab348",
   "metadata": {},
   "outputs": [
    {
     "name": "stdout",
     "output_type": "stream",
     "text": [
      "Using seed: 1656488654304373167\n",
      "Running fast pixeldrawer with 16x16 grid\n",
      "All CLIP models already loaded:  ['RN50', 'ViT-B/32', 'ViT-B/16']\n",
      "Using device: cuda:0\n",
      "Optimising using: Adam\n",
      "Using text prompts: ['an icon of a dog #pixelart']\n",
      "Using initial image outputs/dog/ACTUAL/output.png (1)\n"
     ]
    },
    {
     "data": {
      "application/vnd.jupyter.widget-view+json": {
       "model_id": "12c80838da1140d0b501e5b46fb2c54f",
       "version_major": 2,
       "version_minor": 0
      },
      "text/plain": [
       "HBox(children=(FloatProgress(value=1.0, bar_style='info', layout=Layout(width='20px'), max=1.0), HTML(value=''…"
      ]
     },
     "metadata": {},
     "output_type": "display_data"
    },
    {
     "data": {
      "image/png": "[encoded data removed]",
      "text/plain": [
       "<IPython.core.display.Image object>"
      ]
     },
     "metadata": {},
     "output_type": "display_data"
    },
    {
     "name": "stdout",
     "output_type": "stream",
     "text": [
      "iter: 0, loss: 2.58, losses: 0.85, 0.0854, 0.747, 0.0684, 0.757, 0.0674 (-0=>2.576)\n",
      "iter: 10, loss: 2.66, losses: 0.893, 0.0853, 0.772, 0.0683, 0.773, 0.0677 (-10=>2.576)\n"
     ]
    },
    {
     "data": {
      "image/png": "[encoded data removed]",
      "text/plain": [
       "<IPython.core.display.Image object>"
      ]
     },
     "metadata": {},
     "output_type": "display_data"
    },
    {
     "name": "stdout",
     "output_type": "stream",
     "text": [
      "iter: 20, loss: 2.63, losses: 0.88, 0.0854, 0.755, 0.0685, 0.773, 0.0675 (-20=>2.576)\n",
      "Dropping learning rate\n",
      "iter: 30, finished (-6=>2.522)\n",
      "\n"
     ]
    }
   ],
   "source": [
    "pixray.run(\n",
    "    \"an icon of a {} #pixelart\".format('dog'),\n",
    "    \"fast_pixel\",\n",
    "    quality=\"better\",\n",
    "    size=[128, 128],\n",
    "    pixel_size= [16, 16],\n",
    "    scale=1,\n",
    "    iterations=30,\n",
    "    outdir='outputs/temp',\n",
    "    make_video=False,\n",
    "    save_intermediates=True,\n",
    "    init_image='outputs/dog/ACTUAL/output.png', \n",
    ")"
   ]
  },
  {
   "cell_type": "code",
   "execution_count": null,
   "id": "073b2689-2cb7-4880-98cd-bba83f5579cc",
   "metadata": {},
   "outputs": [],
   "source": []
  },
  {
   "cell_type": "code",
   "execution_count": null,
   "id": "756582d2-c663-49b4-b99e-6a5ea07ed4de",
   "metadata": {},
   "outputs": [],
   "source": []
  },
  {
   "cell_type": "code",
   "execution_count": null,
   "id": "0983117a-550a-413a-bf7b-adbcfcd3614c",
   "metadata": {},
   "outputs": [],
   "source": []
  },
  {
   "cell_type": "code",
   "execution_count": null,
   "id": "378832fa-581f-429b-b20a-edfa49c59ab5",
   "metadata": {},
   "outputs": [],
   "source": []
  },
  {
   "cell_type": "code",
   "execution_count": null,
   "id": "2087c772-4aae-4875-ac49-a743d00c8a0c",
   "metadata": {},
   "outputs": [],
   "source": []
  },
  {
   "cell_type": "code",
   "execution_count": 6,
   "id": "3be6e654-706a-41d6-979d-0b310349131a",
   "metadata": {},
   "outputs": [
    {
     "name": "stdout",
     "output_type": "stream",
     "text": [
      "Using seed: 6089728585587240037\n",
      "Running fast pixeldrawer with 16x16 grid\n",
      "All CLIP models already loaded:  ['RN50', 'ViT-B/32', 'ViT-B/16']\n",
      "Using device: cuda:0\n",
      "Optimising using: Adam\n",
      "Using text prompts: ['an icon of a cat #pixelart']\n"
     ]
    },
    {
     "data": {
      "application/vnd.jupyter.widget-view+json": {
       "model_id": "b5879eb1d6184b9eacd1b8c820d29346",
       "version_major": 2,
       "version_minor": 0
      },
      "text/plain": [
       "HBox(children=(FloatProgress(value=1.0, bar_style='info', layout=Layout(width='20px'), max=1.0), HTML(value=''…"
      ]
     },
     "metadata": {},
     "output_type": "display_data"
    },
    {
     "data": {
      "image/png": "[encoded data removed]",
      "text/plain": [
       "<IPython.core.display.Image object>"
      ]
     },
     "metadata": {},
     "output_type": "display_data"
    },
    {
     "name": "stdout",
     "output_type": "stream",
     "text": [
      "iter: 0, loss: 3, losses: 0.999, 0.0848, 0.892, 0.0652, 0.895, 0.0682 (-0=>3.005)\n",
      "iter: 10, loss: 2.8, losses: 0.952, 0.0858, 0.813, 0.0654, 0.82, 0.0651 (-0=>2.802)\n"
     ]
    },
    {
     "data": {
      "image/png": "[encoded data removed]",
      "text/plain": [
       "<IPython.core.display.Image object>"
      ]
     },
     "metadata": {},
     "output_type": "display_data"
    },
    {
     "name": "stdout",
     "output_type": "stream",
     "text": [
      "iter: 20, loss: 2.66, losses: 0.895, 0.0859, 0.77, 0.067, 0.777, 0.0661 (-0=>2.661)\n",
      "Dropping learning rate\n",
      "iter: 30, finished (-5=>2.619)\n",
      "\n"
     ]
    }
   ],
   "source": [
    "#@title Generate pixel art{ vertical-output: true }\n",
    "#pixel\n",
    "import shutil\n",
    "import os\n",
    "import pixray\n",
    "\n",
    "def make_image(noun, start_img=None):\n",
    "    pixray.reset_settings()\n",
    "    pixray.add_settings(save_intermediates=False)\n",
    "    pixray.run(\n",
    "        \"an icon of a {} #pixelart\".format(noun),\n",
    "        \"fast_pixel\",\n",
    "        quality=\"better\",\n",
    "        size=[128, 128],\n",
    "        pixel_size= [16, 16],\n",
    "        scale=1,\n",
    "        iterations=30,\n",
    "        outdir='outputs/{}'.format(noun),\n",
    "        make_video=False,\n",
    "        save_intermediates=True,\n",
    "    )\n",
    "    \n",
    "a = make_image(noun)"
   ]
  },
  {
   "cell_type": "code",
   "execution_count": null,
   "id": "4696fd45-104f-4ff9-913f-84bd81ad23f0",
   "metadata": {},
   "outputs": [],
   "source": []
  },
  {
   "cell_type": "code",
   "execution_count": null,
   "id": "5d36118f-9b35-47df-ab9d-3da045045085",
   "metadata": {},
   "outputs": [],
   "source": []
  },
  {
   "cell_type": "code",
   "execution_count": null,
   "id": "9f7858d6-6796-4bb5-91ec-50f82f1188d6",
   "metadata": {},
   "outputs": [],
   "source": []
  },
  {
   "cell_type": "code",
   "execution_count": null,
   "id": "9bfed224-d587-4575-be46-980f3f48cc6a",
   "metadata": {},
   "outputs": [],
   "source": []
  },
  {
   "cell_type": "code",
   "execution_count": null,
   "id": "7a85b7c0-464b-4336-9233-7393264b8ae7",
   "metadata": {},
   "outputs": [],
   "source": []
  },
  {
   "cell_type": "code",
   "execution_count": null,
   "id": "2617e98e-f43d-4c99-9778-0a72085bc17b",
   "metadata": {},
   "outputs": [],
   "source": []
  },
  {
   "cell_type": "code",
   "execution_count": null,
   "id": "71b20f9c-c0bb-47c7-ad5b-d8820bd0119f",
   "metadata": {},
   "outputs": [],
   "source": []
  },
  {
   "cell_type": "code",
   "execution_count": null,
   "id": "e58bc05a-090d-402f-b566-bbc13e8bbfd1",
   "metadata": {},
   "outputs": [],
   "source": []
  },
  {
   "cell_type": "code",
   "execution_count": null,
   "id": "e3bfe249-59f7-40ea-9c76-cc3b031b3b72",
   "metadata": {},
   "outputs": [],
   "source": []
  },
  {
   "cell_type": "code",
   "execution_count": null,
   "id": "f9e78a21-d585-4640-af8f-59eb4649777b",
   "metadata": {},
   "outputs": [],
   "source": []
  }
 ],
 "metadata": {
  "kernelspec": {
   "display_name": "Python 3 (ipykernel)",
   "language": "python",
   "name": "python3"
  },
  "language_info": {
   "codemirror_mode": {
    "name": "ipython",
    "version": 3
   },
   "file_extension": ".py",
   "mimetype": "text/x-python",
   "name": "python",
   "nbconvert_exporter": "python",
   "pygments_lexer": "ipython3",
   "version": "3.8.13"
  }
 },
 "nbformat": 4,
 "nbformat_minor": 5
}
