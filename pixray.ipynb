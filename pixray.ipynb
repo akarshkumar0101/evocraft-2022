{
 "cells": [
  {
   "cell_type": "code",
   "execution_count": 1,
   "id": "1fb38364-000b-4b2d-a46c-996cdf84f8b3",
   "metadata": {},
   "outputs": [
    {
     "data": {
      "text/plain": [
       "'/work/08258/akumar01/maverick2/miniconda3/envs/evocraft/bin/python'"
      ]
     },
     "execution_count": 1,
     "metadata": {},
     "output_type": "execute_result"
    }
   ],
   "source": [
    "import sys\n",
    "sys.executable"
   ]
  },
  {
   "cell_type": "code",
   "execution_count": 2,
   "id": "40d0a0e0-3ee3-4990-801b-ffd64ebb251f",
   "metadata": {},
   "outputs": [],
   "source": [
    "sys.path.append('pixray')"
   ]
  },
  {
   "cell_type": "code",
   "execution_count": 3,
   "id": "ff7412c5-2c8b-43b8-8642-20765f5b9145",
   "metadata": {},
   "outputs": [
    {
     "name": "stdout",
     "output_type": "stream",
     "text": [
      "--> Not running with pydiffvg drawer support  No module named 'pydiffvg'\n"
     ]
    }
   ],
   "source": [
    "import pixray"
   ]
  },
  {
   "cell_type": "code",
   "execution_count": null,
   "id": "d4cb9ffa-dc40-4003-a585-aae01e1dfad7",
   "metadata": {},
   "outputs": [],
   "source": []
  },
  {
   "cell_type": "code",
   "execution_count": null,
   "id": "50e64d3c-d94f-4017-8b7e-ecb11913535d",
   "metadata": {},
   "outputs": [],
   "source": []
  },
  {
   "cell_type": "code",
   "execution_count": 4,
   "id": "8fd46839-83ad-4e90-b7ad-7136001ab348",
   "metadata": {},
   "outputs": [
    {
     "name": "stdout",
     "output_type": "stream",
     "text": [
      "Using seed: 11448569847713653114\n",
      "Running fast pixeldrawer with 16x16 grid\n",
      "Loaded CLIP RN50: 224x224 and 102.01M params\n",
      "Loaded CLIP ViT-B/32: 224x224 and 151.28M params\n",
      "Loaded CLIP ViT-B/16: 224x224 and 149.62M params\n",
      "Using device: cuda:0\n",
      "Optimising using: Adam\n",
      "Using text prompts: ['an icon of a basketball #pixelart']\n"
     ]
    },
    {
     "data": {
      "application/vnd.jupyter.widget-view+json": {
       "model_id": "0673e06db3f045efbc0051e9810ee6ff",
       "version_major": 2,
       "version_minor": 0
      },
      "text/plain": [
       "HBox(children=(FloatProgress(value=1.0, bar_style='info', layout=Layout(width='20px'), max=1.0), HTML(value=''…"
      ]
     },
     "metadata": {},
     "output_type": "display_data"
    },
    {
     "data": {
      "image/png": "[encoded data removed]",
      "text/plain": [
       "<IPython.core.display.Image object>"
      ]
     },
     "metadata": {},
     "output_type": "display_data"
    },
    {
     "name": "stdout",
     "output_type": "stream",
     "text": [
      "iter: 0, loss: 3.11, losses: 1.04, 0.0886, 0.934, 0.063, 0.919, 0.0644 (-0=>3.111)\n",
      "iter: 10, loss: 2.94, losses: 0.964, 0.0873, 0.891, 0.0655, 0.866, 0.0666 (-1=>2.918)\n"
     ]
    },
    {
     "data": {
      "image/png": "[encoded data removed]",
      "text/plain": [
       "<IPython.core.display.Image object>"
      ]
     },
     "metadata": {},
     "output_type": "display_data"
    },
    {
     "name": "stdout",
     "output_type": "stream",
     "text": [
      "iter: 20, loss: 2.86, losses: 0.941, 0.0882, 0.86, 0.0651, 0.84, 0.0669 (-1=>2.841)\n",
      "iter: 30, loss: 2.82, losses: 0.936, 0.0898, 0.827, 0.0662, 0.838, 0.0666 (-1=>2.798)\n"
     ]
    },
    {
     "data": {
      "image/png": "[encoded data removed]",
      "text/plain": [
       "<IPython.core.display.Image object>"
      ]
     },
     "metadata": {},
     "output_type": "display_data"
    },
    {
     "name": "stdout",
     "output_type": "stream",
     "text": [
      "iter: 40, loss: 2.76, losses: 0.927, 0.0875, 0.788, 0.0656, 0.828, 0.0663 (-0=>2.762)\n",
      "iter: 50, loss: 2.74, losses: 0.928, 0.089, 0.78, 0.0668, 0.807, 0.0676 (-3=>2.728)\n"
     ]
    },
    {
     "data": {
      "image/png": "[encoded data removed]",
      "text/plain": [
       "<IPython.core.display.Image object>"
      ]
     },
     "metadata": {},
     "output_type": "display_data"
    },
    {
     "name": "stdout",
     "output_type": "stream",
     "text": [
      "iter: 60, loss: 2.66, losses: 0.925, 0.087, 0.737, 0.0684, 0.779, 0.0677 (-0=>2.664)\n",
      "iter: 70, loss: 2.7, losses: 0.927, 0.0878, 0.766, 0.0689, 0.778, 0.069 (-10=>2.664)\n"
     ]
    },
    {
     "data": {
      "image/png": "[encoded data removed]",
      "text/plain": [
       "<IPython.core.display.Image object>"
      ]
     },
     "metadata": {},
     "output_type": "display_data"
    },
    {
     "name": "stdout",
     "output_type": "stream",
     "text": [
      "iter: 80, loss: 2.67, losses: 0.921, 0.0881, 0.75, 0.0703, 0.77, 0.0697 (-1=>2.657)\n",
      "iter: 90, loss: 2.65, losses: 0.918, 0.0873, 0.747, 0.0694, 0.76, 0.0694 (-5=>2.609)\n"
     ]
    },
    {
     "data": {
      "image/png": "[encoded data removed]",
      "text/plain": [
       "<IPython.core.display.Image object>"
      ]
     },
     "metadata": {},
     "output_type": "display_data"
    },
    {
     "name": "stdout",
     "output_type": "stream",
     "text": [
      "iter: 100, loss: 2.61, losses: 0.912, 0.0874, 0.725, 0.0702, 0.745, 0.0706 (-1=>2.584)\n",
      "iter: 110, loss: 2.64, losses: 0.919, 0.0876, 0.741, 0.0706, 0.754, 0.0713 (-11=>2.584)\n"
     ]
    },
    {
     "data": {
      "image/png": "[encoded data removed]",
      "text/plain": [
       "<IPython.core.display.Image object>"
      ]
     },
     "metadata": {},
     "output_type": "display_data"
    },
    {
     "name": "stdout",
     "output_type": "stream",
     "text": [
      "iter: 120, loss: 2.63, losses: 0.915, 0.0871, 0.734, 0.0702, 0.751, 0.0702 (-21=>2.584)\n",
      "iter: 130, loss: 2.58, losses: 0.903, 0.0874, 0.716, 0.0709, 0.73, 0.0718 (-7=>2.575)\n",
      "\n"
     ]
    }
   ],
   "source": [
    "pixray.run(\n",
    "    \"an icon of a {} #pixelart\".format('basketball'),\n",
    "    \"fast_pixel\",\n",
    "    quality=\"better\",\n",
    "    size=[128, 128],\n",
    "    pixel_size= [16, 16],\n",
    "    scale=1,\n",
    "    iterations=600,\n",
    "    outdir='outputs/temp',\n",
    "    make_video=False,\n",
    "    save_intermediates=True,\n",
    "    init_noise='gradient',\n",
    "    init_image=None,\n",
    ")"
   ]
  },
  {
   "cell_type": "code",
   "execution_count": null,
   "id": "08ec1518-1580-441e-9438-714872f92f69",
   "metadata": {},
   "outputs": [],
   "source": []
  },
  {
   "cell_type": "code",
   "execution_count": null,
   "id": "28a604a4-9a7d-4f1a-812a-470354ba4139",
   "metadata": {},
   "outputs": [],
   "source": []
  },
  {
   "cell_type": "code",
   "execution_count": null,
   "id": "e27ed79a-cb81-4399-8278-52543b3e1cc2",
   "metadata": {},
   "outputs": [],
   "source": []
  },
  {
   "cell_type": "code",
   "execution_count": null,
   "id": "e36ac9e9-f5df-4af2-99e7-5f601d4a73f7",
   "metadata": {},
   "outputs": [],
   "source": []
  },
  {
   "cell_type": "code",
   "execution_count": 17,
   "id": "0bf64321-9af5-4bee-90e5-4c60a8d71070",
   "metadata": {},
   "outputs": [
    {
     "data": {
      "text/plain": [
       "2.4758951663970947"
      ]
     },
     "execution_count": 17,
     "metadata": {},
     "output_type": "execute_result"
    }
   ],
   "source": [
    "pixray.best_loss.item()"
   ]
  },
  {
   "cell_type": "code",
   "execution_count": 7,
   "id": "63a62dfa-44c9-4d5c-8b4f-0e279212c5cc",
   "metadata": {},
   "outputs": [
    {
     "data": {
      "text/plain": [
       "tensor(2.6353, device='cuda:0')"
      ]
     },
     "execution_count": 7,
     "metadata": {},
     "output_type": "execute_result"
    }
   ],
   "source": [
    "pixray.best_loss"
   ]
  },
  {
   "cell_type": "code",
   "execution_count": 11,
   "id": "b3a92371-46ce-4fce-8cb1-776830decbbc",
   "metadata": {},
   "outputs": [
    {
     "data": {
      "text/plain": [
       "tensor(2.4711, device='cuda:0')"
      ]
     },
     "execution_count": 11,
     "metadata": {},
     "output_type": "execute_result"
    }
   ],
   "source": [
    "pixray.best_loss"
   ]
  },
  {
   "cell_type": "code",
   "execution_count": null,
   "id": "6665182a-1d0b-4238-bb98-41db789b00ee",
   "metadata": {},
   "outputs": [],
   "source": []
  },
  {
   "cell_type": "code",
   "execution_count": null,
   "id": "653ce9a1-b643-41cf-bce3-ca0b3d1a6dd9",
   "metadata": {},
   "outputs": [],
   "source": []
  },
  {
   "cell_type": "code",
   "execution_count": 28,
   "id": "37d9ec59-312f-46c5-b932-1a1e35936ead",
   "metadata": {},
   "outputs": [
    {
     "data": {
      "text/plain": [
       "{'spoon': ['silver', 'kitchen', 'wooden'],\n",
       " 'kitchen': ['cuttingboards', 'pots', 'pans'],\n",
       " 'pans': ['stockpots', 'handles', 'dutch'],\n",
       " 'silver': ['sequin', 'ducat', 'jewelry'],\n",
       " 'jewelry': ['tiara', 'brooch', 'ornament'],\n",
       " 'cuttingboards': ['countertops', 'slicing', 'knives'],\n",
       " 'slicing': ['pepperoni', 'garlic', 'olive'],\n",
       " 'wooden': ['plank', 'rafter', 'joist'],\n",
       " 'sequin': ['needle', 'color', 'thread'],\n",
       " 'dutch': ['tulips', 'dikes', 'windmills'],\n",
       " 'ducat': ['estate', 'riches', 'coin'],\n",
       " 'windmills': ['turbine', 'mill', 'force'],\n",
       " 'needle': ['tapemeasure', 'fabricmarker', 'seamripper'],\n",
       " 'turbine': ['generator', 'propeller', 'compressor'],\n",
       " 'countertops': ['quartz', 'marble', 'granite'],\n",
       " 'olive': ['leaves', 'mediterranean', 'fruit'],\n",
       " 'stockpots': ['jug', 'pitcher', 'cauldron'],\n",
       " 'fabricmarker': ['illustration', 'pen', 'textile'],\n",
       " 'coin': ['copper', 'dime', 'two-dollar'],\n",
       " 'illustration': ['rendering', 'sketching', 'painting'],\n",
       " 'jug': ['bottle', 'vase', 'urn'],\n",
       " 'seamripper': ['clippers', 'seam', 'snips'],\n",
       " 'generator': ['apparatus', 'instrument', 'electricity'],\n",
       " 'rendering': ['renderingengine', 'renderingservice', 'renderingfarm'],\n",
       " 'thread': ['shuttle', 'bobbin', 'spool'],\n",
       " 'cauldron': ['basin', 'kettle', 'saucepan'],\n",
       " 'handles': ['drawer', 'lever', 'handlebar'],\n",
       " 'ornament': ['mistletoe', 'ivy', 'pine'],\n",
       " 'pots': ['gardening', 'outdoors', 'flowers'],\n",
       " 'granite': ['boulder', 'pebble', 'cobblestone'],\n",
       " 'color': ['black', 'pink', 'white']}"
      ]
     },
     "execution_count": 28,
     "metadata": {},
     "output_type": "execute_result"
    }
   ],
   "source": [
    "torch.load('outputs/children_data.pth')"
   ]
  },
  {
   "cell_type": "code",
   "execution_count": null,
   "id": "2932725a-3430-44c8-acf6-b8a0287deb45",
   "metadata": {},
   "outputs": [],
   "source": []
  },
  {
   "cell_type": "code",
   "execution_count": null,
   "id": "01b05f64-6256-4aee-8496-b480e864c001",
   "metadata": {},
   "outputs": [],
   "source": []
  },
  {
   "cell_type": "code",
   "execution_count": null,
   "id": "7a5c54fe-d7ea-4240-92e3-cd96017adb4c",
   "metadata": {},
   "outputs": [],
   "source": []
  },
  {
   "cell_type": "code",
   "execution_count": null,
   "id": "63c4ad16-1433-48cc-84e4-d42fffe893a5",
   "metadata": {},
   "outputs": [],
   "source": []
  },
  {
   "cell_type": "code",
   "execution_count": null,
   "id": "130d5aa5-e4a2-49a2-a1d7-31041973c7d9",
   "metadata": {},
   "outputs": [],
   "source": []
  },
  {
   "cell_type": "code",
   "execution_count": null,
   "id": "c7f9603c-29f9-42f0-9a75-88e4c770ed6a",
   "metadata": {},
   "outputs": [],
   "source": []
  },
  {
   "cell_type": "code",
   "execution_count": null,
   "id": "d5bf8b30-5a69-4ac5-9318-a17d521bde75",
   "metadata": {},
   "outputs": [],
   "source": []
  },
  {
   "cell_type": "code",
   "execution_count": null,
   "id": "378832fa-581f-429b-b20a-edfa49c59ab5",
   "metadata": {},
   "outputs": [],
   "source": []
  },
  {
   "cell_type": "code",
   "execution_count": null,
   "id": "2087c772-4aae-4875-ac49-a743d00c8a0c",
   "metadata": {},
   "outputs": [],
   "source": []
  },
  {
   "cell_type": "code",
   "execution_count": 6,
   "id": "3be6e654-706a-41d6-979d-0b310349131a",
   "metadata": {},
   "outputs": [
    {
     "name": "stdout",
     "output_type": "stream",
     "text": [
      "Using seed: 6089728585587240037\n",
      "Running fast pixeldrawer with 16x16 grid\n",
      "All CLIP models already loaded:  ['RN50', 'ViT-B/32', 'ViT-B/16']\n",
      "Using device: cuda:0\n",
      "Optimising using: Adam\n",
      "Using text prompts: ['an icon of a cat #pixelart']\n"
     ]
    },
    {
     "data": {
      "application/vnd.jupyter.widget-view+json": {
       "model_id": "b5879eb1d6184b9eacd1b8c820d29346",
       "version_major": 2,
       "version_minor": 0
      },
      "text/plain": [
       "HBox(children=(FloatProgress(value=1.0, bar_style='info', layout=Layout(width='20px'), max=1.0), HTML(value=''…"
      ]
     },
     "metadata": {},
     "output_type": "display_data"
    },
    {
     "data": {
      "image/png": "[encoded data removed]",
      "text/plain": [
       "<IPython.core.display.Image object>"
      ]
     },
     "metadata": {},
     "output_type": "display_data"
    },
    {
     "name": "stdout",
     "output_type": "stream",
     "text": [
      "iter: 0, loss: 3, losses: 0.999, 0.0848, 0.892, 0.0652, 0.895, 0.0682 (-0=>3.005)\n",
      "iter: 10, loss: 2.8, losses: 0.952, 0.0858, 0.813, 0.0654, 0.82, 0.0651 (-0=>2.802)\n"
     ]
    },
    {
     "data": {
      "image/png": "[encoded data removed]",
      "text/plain": [
       "<IPython.core.display.Image object>"
      ]
     },
     "metadata": {},
     "output_type": "display_data"
    },
    {
     "name": "stdout",
     "output_type": "stream",
     "text": [
      "iter: 20, loss: 2.66, losses: 0.895, 0.0859, 0.77, 0.067, 0.777, 0.0661 (-0=>2.661)\n",
      "Dropping learning rate\n",
      "iter: 30, finished (-5=>2.619)\n",
      "\n"
     ]
    }
   ],
   "source": [
    "#@title Generate pixel art{ vertical-output: true }\n",
    "#pixel\n",
    "import shutil\n",
    "import os\n",
    "import pixray\n",
    "\n",
    "def make_image(noun, start_img=None):\n",
    "    pixray.reset_settings()\n",
    "    pixray.add_settings(save_intermediates=False)\n",
    "    pixray.run(\n",
    "        \"an icon of a {} #pixelart\".format(noun),\n",
    "        \"fast_pixel\",\n",
    "        quality=\"better\",\n",
    "        size=[128, 128],\n",
    "        pixel_size= [16, 16],\n",
    "        scale=1,\n",
    "        iterations=30,\n",
    "        outdir='outputs/{}'.format(noun),\n",
    "        make_video=False,\n",
    "        save_intermediates=True,\n",
    "    )\n",
    "    \n",
    "a = make_image(noun)"
   ]
  },
  {
   "cell_type": "code",
   "execution_count": null,
   "id": "4696fd45-104f-4ff9-913f-84bd81ad23f0",
   "metadata": {},
   "outputs": [],
   "source": []
  },
  {
   "cell_type": "code",
   "execution_count": null,
   "id": "5d36118f-9b35-47df-ab9d-3da045045085",
   "metadata": {},
   "outputs": [],
   "source": []
  },
  {
   "cell_type": "code",
   "execution_count": null,
   "id": "9f7858d6-6796-4bb5-91ec-50f82f1188d6",
   "metadata": {},
   "outputs": [],
   "source": []
  },
  {
   "cell_type": "code",
   "execution_count": null,
   "id": "9bfed224-d587-4575-be46-980f3f48cc6a",
   "metadata": {},
   "outputs": [],
   "source": []
  },
  {
   "cell_type": "code",
   "execution_count": null,
   "id": "7a85b7c0-464b-4336-9233-7393264b8ae7",
   "metadata": {},
   "outputs": [],
   "source": []
  },
  {
   "cell_type": "code",
   "execution_count": null,
   "id": "2617e98e-f43d-4c99-9778-0a72085bc17b",
   "metadata": {},
   "outputs": [],
   "source": []
  },
  {
   "cell_type": "code",
   "execution_count": null,
   "id": "71b20f9c-c0bb-47c7-ad5b-d8820bd0119f",
   "metadata": {},
   "outputs": [],
   "source": []
  },
  {
   "cell_type": "code",
   "execution_count": null,
   "id": "e58bc05a-090d-402f-b566-bbc13e8bbfd1",
   "metadata": {},
   "outputs": [],
   "source": []
  },
  {
   "cell_type": "code",
   "execution_count": null,
   "id": "e3bfe249-59f7-40ea-9c76-cc3b031b3b72",
   "metadata": {},
   "outputs": [],
   "source": []
  },
  {
   "cell_type": "code",
   "execution_count": null,
   "id": "f9e78a21-d585-4640-af8f-59eb4649777b",
   "metadata": {},
   "outputs": [],
   "source": []
  }
 ],
 "metadata": {
  "kernelspec": {
   "display_name": "Python 3 (ipykernel)",
   "language": "python",
   "name": "python3"
  },
  "language_info": {
   "codemirror_mode": {
    "name": "ipython",
    "version": 3
   },
   "file_extension": ".py",
   "mimetype": "text/x-python",
   "name": "python",
   "nbconvert_exporter": "python",
   "pygments_lexer": "ipython3",
   "version": "3.8.13"
  }
 },
 "nbformat": 4,
 "nbformat_minor": 5
}
