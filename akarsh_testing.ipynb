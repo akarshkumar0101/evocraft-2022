{
 "cells": [
  {
   "cell_type": "code",
   "execution_count": null,
   "id": "51ce378f-349d-43f7-bd70-1da5c53950d8",
   "metadata": {},
   "outputs": [],
   "source": []
  },
  {
   "cell_type": "code",
   "execution_count": 1,
   "id": "db47b2c4-8f22-46b5-b0ac-13b65c470daf",
   "metadata": {},
   "outputs": [
    {
     "data": {
      "text/plain": []
     },
     "execution_count": 1,
     "metadata": {},
     "output_type": "execute_result"
    }
   ],
   "source": [
    "import grpc\n",
    "\n",
    "import minecraft_pb2_grpc\n",
    "from minecraft_pb2 import *\n",
    "\n",
    "channel = grpc.insecure_channel('localhost:5001')\n",
    "client = minecraft_pb2_grpc.MinecraftServiceStub(channel)\n",
    "\n",
    "client.fillCube(FillCubeRequest(  # Clear a 20x10x20 working area\n",
    "    cube=Cube(\n",
    "        min=Point(x=-10, y=4, z=-10),\n",
    "        max=Point(x=10, y=14, z=10)\n",
    "    ),\n",
    "    type=AIR\n",
    "))\n",
    "client.spawnBlocks(Blocks(blocks=[  # Spawn a flying machine\n",
    "    # Lower layer\n",
    "    Block(position=Point(x=1, y=5, z=1), type=PISTON, orientation=NORTH),\n",
    "    Block(position=Point(x=1, y=5, z=0), type=SLIME, orientation=NORTH),\n",
    "    Block(position=Point(x=1, y=5, z=-1), type=STICKY_PISTON, orientation=SOUTH),\n",
    "    Block(position=Point(x=1, y=5, z=-2), type=PISTON, orientation=NORTH),\n",
    "    Block(position=Point(x=1, y=5, z=-4), type=SLIME, orientation=NORTH),\n",
    "    # Upper layer\n",
    "    Block(position=Point(x=1, y=6, z=0), type=REDSTONE_BLOCK, orientation=NORTH),\n",
    "    Block(position=Point(x=1, y=6, z=-4), type=REDSTONE_BLOCK, orientation=NORTH),\n",
    "    # Activate\n",
    "    Block(position=Point(x=1, y=6, z=-1), type=QUARTZ_BLOCK, orientation=NORTH),\n",
    "]))"
   ]
  },
  {
   "cell_type": "code",
   "execution_count": null,
   "id": "542de2ca-47f6-42a2-aebd-7e5bec63c3fa",
   "metadata": {},
   "outputs": [],
   "source": []
  },
  {
   "cell_type": "code",
   "execution_count": null,
   "id": "b768217b-942d-4953-921d-30abacfd54c2",
   "metadata": {},
   "outputs": [],
   "source": []
  },
  {
   "cell_type": "code",
   "execution_count": null,
   "id": "e82446d8-f209-4dae-b4d8-18425e66ce49",
   "metadata": {},
   "outputs": [],
   "source": []
  },
  {
   "cell_type": "code",
   "execution_count": 8,
   "id": "b88b4aad-b760-41ef-91a0-bb233198c87f",
   "metadata": {},
   "outputs": [],
   "source": [
    "import minecraft_pb2"
   ]
  },
  {
   "cell_type": "code",
   "execution_count": null,
   "id": "549558ee-24e0-4a1d-86e6-07bba209a080",
   "metadata": {},
   "outputs": [],
   "source": []
  },
  {
   "cell_type": "code",
   "execution_count": 28,
   "id": "ef097b64-da69-4446-9311-a5933ccd08b4",
   "metadata": {},
   "outputs": [
    {
     "data": {
      "text/plain": [
       "['__class__',\n",
       " '__delattr__',\n",
       " '__dict__',\n",
       " '__dir__',\n",
       " '__doc__',\n",
       " '__eq__',\n",
       " '__format__',\n",
       " '__ge__',\n",
       " '__getattribute__',\n",
       " '__gt__',\n",
       " '__hash__',\n",
       " '__init__',\n",
       " '__init_subclass__',\n",
       " '__le__',\n",
       " '__lt__',\n",
       " '__module__',\n",
       " '__ne__',\n",
       " '__new__',\n",
       " '__reduce__',\n",
       " '__reduce_ex__',\n",
       " '__repr__',\n",
       " '__setattr__',\n",
       " '__sizeof__',\n",
       " '__str__',\n",
       " '__subclasshook__',\n",
       " '__weakref__',\n",
       " 'fillCube',\n",
       " 'readCube',\n",
       " 'spawnBlocks']"
      ]
     },
     "execution_count": 28,
     "metadata": {},
     "output_type": "execute_result"
    }
   ],
   "source": [
    "dir(client)"
   ]
  },
  {
   "cell_type": "code",
   "execution_count": null,
   "id": "af7ba873-5cfd-4445-aa0a-ebe8e01658fa",
   "metadata": {},
   "outputs": [],
   "source": []
  },
  {
   "cell_type": "code",
   "execution_count": 16,
   "id": "8591bc1b-8d8c-4b86-932d-b596c3b9e79a",
   "metadata": {},
   "outputs": [
    {
     "data": {
      "text/plain": [
       "<module 'minecraft_pb2_grpc' from '/Users/akarshkumar0101/Evocraft-py/minecraft_pb2_grpc.py'>"
      ]
     },
     "execution_count": 16,
     "metadata": {},
     "output_type": "execute_result"
    }
   ],
   "source": [
    "minecraft_pb2_grpc."
   ]
  },
  {
   "cell_type": "code",
   "execution_count": null,
   "id": "d3453424-c8de-4afd-b5e9-13252584dfed",
   "metadata": {},
   "outputs": [],
   "source": []
  },
  {
   "cell_type": "code",
   "execution_count": 26,
   "id": "10a9c00b-862a-4ec9-bbdd-d741a7284047",
   "metadata": {},
   "outputs": [
    {
     "data": {
      "text/plain": [
       "19.4"
      ]
     },
     "execution_count": 26,
     "metadata": {},
     "output_type": "execute_result"
    }
   ],
   "source": [
    "291/15"
   ]
  },
  {
   "cell_type": "code",
   "execution_count": null,
   "id": "9f8a2409-fbc6-4ff4-b715-0ad562d2e945",
   "metadata": {},
   "outputs": [],
   "source": []
  },
  {
   "cell_type": "code",
   "execution_count": null,
   "id": "617c1e72-c9fb-4c24-8700-bd8aadf04988",
   "metadata": {},
   "outputs": [],
   "source": []
  },
  {
   "cell_type": "code",
   "execution_count": null,
   "id": "85d5e8ac-c9eb-4c2a-bdaf-1610cf745464",
   "metadata": {},
   "outputs": [],
   "source": []
  },
  {
   "cell_type": "code",
   "execution_count": 30,
   "id": "281bc599-876a-40ed-b18b-07dbed0b0f20",
   "metadata": {},
   "outputs": [],
   "source": []
  },
  {
   "cell_type": "code",
   "execution_count": 31,
   "id": "993f0558-815f-4d9c-82df-ae80cbceffff",
   "metadata": {},
   "outputs": [],
   "source": [
    "import matplotlib.pyplot as plt"
   ]
  },
  {
   "cell_type": "code",
   "execution_count": 37,
   "id": "a7107412-c118-4d4e-94dd-7644b3b0d4a4",
   "metadata": {},
   "outputs": [],
   "source": []
  },
  {
   "cell_type": "code",
   "execution_count": 39,
   "id": "eea34d42-b361-4b17-8bb1-7635363005fc",
   "metadata": {},
   "outputs": [
    {
     "name": "stderr",
     "output_type": "stream",
     "text": [
      "Clipping input data to the valid range for imshow with RGB data ([0..1] for floats or [0..255] for integers).\n"
     ]
    },
    {
     "data": {
      "text/plain": [
       "<matplotlib.image.AxesImage at 0x7faa794b96d0>"
      ]
     },
     "execution_count": 39,
     "metadata": {},
     "output_type": "execute_result"
    },
    {
     "data": {
      "image/png": "[encoded data removed]",
      "text/plain": [
       "<Figure size 432x288 with 1 Axes>"
      ]
     },
     "metadata": {
      "needs_background": "light"
     },
     "output_type": "display_data"
    }
   ],
   "source": [
    "plt.imshow(cols[None])"
   ]
  },
  {
   "cell_type": "code",
   "execution_count": 40,
   "id": "498e0b90-dd02-4020-8d05-ced578468917",
   "metadata": {},
   "outputs": [
    {
     "data": {
      "text/plain": [
       "[18, 96, 25, 98, 185, 48, 45, 151, 252, 125, 217, 152, 217]"
      ]
     },
     "execution_count": 40,
     "metadata": {},
     "output_type": "execute_result"
    }
   ],
   "source": [
    "b_map"
   ]
  },
  {
   "cell_type": "code",
   "execution_count": null,
   "id": "af2b8eb4-4d87-4011-8a3a-740165e40e08",
   "metadata": {},
   "outputs": [],
   "source": []
  },
  {
   "cell_type": "code",
   "execution_count": 42,
   "id": "c0583f11-3a6b-4ea8-818a-502dc21329a2",
   "metadata": {},
   "outputs": [],
   "source": [
    "\n",
    "import numpy as np\n",
    "import torch\n",
    "import matplotlib.pyplot as plt"
   ]
  },
  {
   "cell_type": "code",
   "execution_count": 43,
   "id": "6e2b1862-600d-4c2c-b3a8-1977d8f1e5f7",
   "metadata": {},
   "outputs": [
    {
     "data": {
      "image/png": "[encoded data removed]",
      "text/plain": [
       "<Figure size 432x288 with 1 Axes>"
      ]
     },
     "metadata": {
      "needs_background": "light"
     },
     "output_type": "display_data"
    },
    {
     "data": {
      "image/png": "[encoded data removed]",
      "text/plain": [
       "<Figure size 432x288 with 1 Axes>"
      ]
     },
     "metadata": {
      "needs_background": "light"
     },
     "output_type": "display_data"
    }
   ],
   "source": [
    "\n",
    "img = plt.imread('../evocraft-2022/sample.png')\n",
    "plt.imshow(img)\n",
    "plt.show()\n",
    "img = img[::128//16, ::128//16, :]\n",
    "plt.imshow(img)\n",
    "plt.show()"
   ]
  },
  {
   "cell_type": "code",
   "execution_count": 83,
   "id": "3a6c10f4-4a03-4d61-aa7d-bb0ab7ea2f8f",
   "metadata": {},
   "outputs": [],
   "source": [
    "\n",
    "all_mc_cols = np.array([\n",
    "    [0, 0, 128],\n",
    "    [144, 135, 147],\n",
    "    [87, 72, 58],\n",
    "    [0, 128, 0],\n",
    "    [128, 0, 0],\n",
    "    [2, 137, 209],\n",
    "    [223.6294, 237.0306, 254.0567],\n",
    "    [10, 10, 10],\n",
    "    [255, 193, 0],\n",
    "    [191, 255, 0],\n",
    "    [89.9944,  98.8727, 104.9356],\n",
    "    [257.6869, 160.5991,  54.7574],\n",
    "    [137, 137, 137],\n",
    "]) / 255\n",
    "all_mc_block_ids = np.array([BLUE_GLAZED_TERRACOTTA, GRAY_GLAZED_TERRACOTTA,\n",
    "                             BROWN_GLAZED_TERRACOTTA, GREEN_GLAZED_TERRACOTTA,\n",
    "                             RED_GLAZED_TERRACOTTA, CYAN_GLAZED_TERRACOTTA, \n",
    "                             CONCRETE, OBSIDIAN, YELLOW_GLAZED_TERRACOTTA, \n",
    "                             LIME_GLAZED_TERRACOTTA, STONE, \n",
    "                             ORANGE_GLAZED_TERRACOTTA, STONE])\n",
    "\n",
    "def get_mc_structure(img):\n",
    "    # shape = img.shape\n",
    "    x = all_mc_cols[:, None, None, :] - img\n",
    "    x = np.linalg.norm(x, ord=2, axis=-1)\n",
    "    x = x.argmin(axis=0)\n",
    "    return all_mc_cols[x], all_mc_block_ids[x]\n",
    "    \n",
    "newimg, blockids = get_mc_structure(img)"
   ]
  },
  {
   "cell_type": "code",
   "execution_count": 88,
   "id": "3a820e90-6f55-4150-89b2-ad93c31eb4d4",
   "metadata": {},
   "outputs": [
    {
     "name": "stdout",
     "output_type": "stream",
     "text": [
      "apple.png     candy.png     dessert.png   green.png     scarlet.png\n",
      "auburn.png    cardinal.png  fig.png       ice cream.png shrub.png\n",
      "banana.png    cherry.png    food.png      leaves.png    sugar.png\n",
      "blueberry.png chocolate.png forest.png    pastry.png    sweet.png\n",
      "burgundy.png  crimson.png   fruit.png     pie.png       tart.png\n",
      "cake.png      date.png      grass.png     red.png       tree.png\n"
     ]
    }
   ],
   "source": [
    "! ls ../evocraft-2022/imgs"
   ]
  },
  {
   "cell_type": "code",
   "execution_count": 89,
   "id": "6c25d190-ee28-45fd-9039-c9beb6a722c5",
   "metadata": {},
   "outputs": [],
   "source": [
    "import os"
   ]
  },
  {
   "cell_type": "code",
   "execution_count": 120,
   "id": "da91eb7e-ec63-4ae9-ba0b-c06725282ab7",
   "metadata": {},
   "outputs": [],
   "source": [
    "def mc_spawn_img(img, blockids, x):\n",
    "    xs = np.arange(x, x+img.shape[0], 1)[::-1]\n",
    "    ys = np.arange(10, 11, 1)\n",
    "    zs = np.arange(0, img.shape[1], 1)\n",
    "\n",
    "    xs, ys, zs = np.meshgrid(xs, ys, zs, indexing='ij')\n",
    "    xs, ys, zs = xs.flatten(), ys.flatten(), zs.flatten()\n",
    "    \n",
    "\n",
    "    # block_ids = np.zeros_like(xs)\n",
    "    block_ids = blockids.flatten()\n",
    "    \n",
    "    print(x, xs.min(), xs.max())\n",
    "\n",
    "    blocks = [Block(position=Point(x=x, y=y, z=z), type=block_id, orientation=UP) for x, y, z, block_id in zip(xs, ys, zs, block_ids)]\n",
    "    client.spawnBlocks(Blocks(blocks=blocks))\n"
   ]
  },
  {
   "cell_type": "code",
   "execution_count": 121,
   "id": "fdcdb135-c417-473b-b63e-718d35fb5fd7",
   "metadata": {},
   "outputs": [
    {
     "name": "stderr",
     "output_type": "stream",
     "text": [
      "Clipping input data to the valid range for imshow with RGB data ([0..1] for floats or [0..255] for integers).\n"
     ]
    },
    {
     "data": {
      "image/png": "[encoded data removed]",
      "text/plain": [
       "<Figure size 432x288 with 1 Axes>"
      ]
     },
     "metadata": {
      "needs_background": "light"
     },
     "output_type": "display_data"
    },
    {
     "name": "stdout",
     "output_type": "stream",
     "text": [
      "16 16 31\n"
     ]
    },
    {
     "name": "stderr",
     "output_type": "stream",
     "text": [
      "Clipping input data to the valid range for imshow with RGB data ([0..1] for floats or [0..255] for integers).\n"
     ]
    },
    {
     "data": {
      "image/png": "[encoded data removed]",
      "text/plain": [
       "<Figure size 432x288 with 1 Axes>"
      ]
     },
     "metadata": {
      "needs_background": "light"
     },
     "output_type": "display_data"
    },
    {
     "name": "stderr",
     "output_type": "stream",
     "text": [
      "Clipping input data to the valid range for imshow with RGB data ([0..1] for floats or [0..255] for integers).\n"
     ]
    },
    {
     "name": "stdout",
     "output_type": "stream",
     "text": [
      "32 32 47\n"
     ]
    },
    {
     "data": {
      "image/png": "[encoded data removed]",
      "text/plain": [
       "<Figure size 432x288 with 1 Axes>"
      ]
     },
     "metadata": {
      "needs_background": "light"
     },
     "output_type": "display_data"
    },
    {
     "name": "stdout",
     "output_type": "stream",
     "text": [
      "48 48 63\n"
     ]
    },
    {
     "name": "stderr",
     "output_type": "stream",
     "text": [
      "Clipping input data to the valid range for imshow with RGB data ([0..1] for floats or [0..255] for integers).\n"
     ]
    },
    {
     "data": {
      "image/png": "[encoded data removed]",
      "text/plain": [
       "<Figure size 432x288 with 1 Axes>"
      ]
     },
     "metadata": {
      "needs_background": "light"
     },
     "output_type": "display_data"
    },
    {
     "name": "stderr",
     "output_type": "stream",
     "text": [
      "Clipping input data to the valid range for imshow with RGB data ([0..1] for floats or [0..255] for integers).\n"
     ]
    },
    {
     "name": "stdout",
     "output_type": "stream",
     "text": [
      "64 64 79\n"
     ]
    },
    {
     "data": {
      "image/png": "[encoded data removed]",
      "text/plain": [
       "<Figure size 432x288 with 1 Axes>"
      ]
     },
     "metadata": {
      "needs_background": "light"
     },
     "output_type": "display_data"
    },
    {
     "name": "stdout",
     "output_type": "stream",
     "text": [
      "80 80 95\n"
     ]
    },
    {
     "name": "stderr",
     "output_type": "stream",
     "text": [
      "Clipping input data to the valid range for imshow with RGB data ([0..1] for floats or [0..255] for integers).\n"
     ]
    },
    {
     "data": {
      "image/png": "[encoded data removed]",
      "text/plain": [
       "<Figure size 432x288 with 1 Axes>"
      ]
     },
     "metadata": {
      "needs_background": "light"
     },
     "output_type": "display_data"
    },
    {
     "name": "stdout",
     "output_type": "stream",
     "text": [
      "96 96 111\n"
     ]
    },
    {
     "name": "stderr",
     "output_type": "stream",
     "text": [
      "Clipping input data to the valid range for imshow with RGB data ([0..1] for floats or [0..255] for integers).\n"
     ]
    },
    {
     "data": {
      "image/png": "[encoded data removed]",
      "text/plain": [
       "<Figure size 432x288 with 1 Axes>"
      ]
     },
     "metadata": {
      "needs_background": "light"
     },
     "output_type": "display_data"
    },
    {
     "name": "stderr",
     "output_type": "stream",
     "text": [
      "Clipping input data to the valid range for imshow with RGB data ([0..1] for floats or [0..255] for integers).\n"
     ]
    },
    {
     "name": "stdout",
     "output_type": "stream",
     "text": [
      "112 112 127\n"
     ]
    },
    {
     "data": {
      "image/png": "[encoded data removed]",
      "text/plain": [
       "<Figure size 432x288 with 1 Axes>"
      ]
     },
     "metadata": {
      "needs_background": "light"
     },
     "output_type": "display_data"
    },
    {
     "name": "stdout",
     "output_type": "stream",
     "text": [
      "128 128 143\n"
     ]
    },
    {
     "name": "stderr",
     "output_type": "stream",
     "text": [
      "Clipping input data to the valid range for imshow with RGB data ([0..1] for floats or [0..255] for integers).\n"
     ]
    },
    {
     "data": {
      "image/png": "[encoded data removed]",
      "text/plain": [
       "<Figure size 432x288 with 1 Axes>"
      ]
     },
     "metadata": {
      "needs_background": "light"
     },
     "output_type": "display_data"
    },
    {
     "name": "stderr",
     "output_type": "stream",
     "text": [
      "Clipping input data to the valid range for imshow with RGB data ([0..1] for floats or [0..255] for integers).\n"
     ]
    },
    {
     "name": "stdout",
     "output_type": "stream",
     "text": [
      "144 144 159\n"
     ]
    },
    {
     "data": {
      "image/png": "[encoded data removed]",
      "text/plain": [
       "<Figure size 432x288 with 1 Axes>"
      ]
     },
     "metadata": {
      "needs_background": "light"
     },
     "output_type": "display_data"
    },
    {
     "name": "stderr",
     "output_type": "stream",
     "text": [
      "Clipping input data to the valid range for imshow with RGB data ([0..1] for floats or [0..255] for integers).\n"
     ]
    },
    {
     "name": "stdout",
     "output_type": "stream",
     "text": [
      "160 160 175\n"
     ]
    },
    {
     "data": {
      "image/png": "[encoded data removed]",
      "text/plain": [
       "<Figure size 432x288 with 1 Axes>"
      ]
     },
     "metadata": {
      "needs_background": "light"
     },
     "output_type": "display_data"
    },
    {
     "name": "stdout",
     "output_type": "stream",
     "text": [
      "176 176 191\n"
     ]
    },
    {
     "name": "stderr",
     "output_type": "stream",
     "text": [
      "Clipping input data to the valid range for imshow with RGB data ([0..1] for floats or [0..255] for integers).\n"
     ]
    },
    {
     "data": {
      "image/png": "[encoded data removed]",
      "text/plain": [
       "<Figure size 432x288 with 1 Axes>"
      ]
     },
     "metadata": {
      "needs_background": "light"
     },
     "output_type": "display_data"
    },
    {
     "name": "stdout",
     "output_type": "stream",
     "text": [
      "192 192 207\n"
     ]
    },
    {
     "name": "stderr",
     "output_type": "stream",
     "text": [
      "Clipping input data to the valid range for imshow with RGB data ([0..1] for floats or [0..255] for integers).\n"
     ]
    },
    {
     "data": {
      "image/png": "[encoded data removed]",
      "text/plain": [
       "<Figure size 432x288 with 1 Axes>"
      ]
     },
     "metadata": {
      "needs_background": "light"
     },
     "output_type": "display_data"
    },
    {
     "name": "stdout",
     "output_type": "stream",
     "text": [
      "208 208 223\n"
     ]
    },
    {
     "name": "stderr",
     "output_type": "stream",
     "text": [
      "Clipping input data to the valid range for imshow with RGB data ([0..1] for floats or [0..255] for integers).\n"
     ]
    },
    {
     "data": {
      "image/png": "[encoded data removed]",
      "text/plain": [
       "<Figure size 432x288 with 1 Axes>"
      ]
     },
     "metadata": {
      "needs_background": "light"
     },
     "output_type": "display_data"
    },
    {
     "name": "stdout",
     "output_type": "stream",
     "text": [
      "224 224 239\n"
     ]
    },
    {
     "name": "stderr",
     "output_type": "stream",
     "text": [
      "Clipping input data to the valid range for imshow with RGB data ([0..1] for floats or [0..255] for integers).\n"
     ]
    },
    {
     "data": {
      "image/png": "[encoded data removed]",
      "text/plain": [
       "<Figure size 432x288 with 1 Axes>"
      ]
     },
     "metadata": {
      "needs_background": "light"
     },
     "output_type": "display_data"
    },
    {
     "name": "stderr",
     "output_type": "stream",
     "text": [
      "Clipping input data to the valid range for imshow with RGB data ([0..1] for floats or [0..255] for integers).\n"
     ]
    },
    {
     "name": "stdout",
     "output_type": "stream",
     "text": [
      "240 240 255\n"
     ]
    },
    {
     "data": {
      "image/png": "[encoded data removed]",
      "text/plain": [
       "<Figure size 432x288 with 1 Axes>"
      ]
     },
     "metadata": {
      "needs_background": "light"
     },
     "output_type": "display_data"
    },
    {
     "name": "stderr",
     "output_type": "stream",
     "text": [
      "Clipping input data to the valid range for imshow with RGB data ([0..1] for floats or [0..255] for integers).\n"
     ]
    },
    {
     "name": "stdout",
     "output_type": "stream",
     "text": [
      "256 256 271\n"
     ]
    },
    {
     "data": {
      "image/png": "[encoded data removed]",
      "text/plain": [
       "<Figure size 432x288 with 1 Axes>"
      ]
     },
     "metadata": {
      "needs_background": "light"
     },
     "output_type": "display_data"
    },
    {
     "name": "stdout",
     "output_type": "stream",
     "text": [
      "272 272 287\n"
     ]
    },
    {
     "name": "stderr",
     "output_type": "stream",
     "text": [
      "Clipping input data to the valid range for imshow with RGB data ([0..1] for floats or [0..255] for integers).\n"
     ]
    },
    {
     "data": {
      "image/png": "[encoded data removed]",
      "text/plain": [
       "<Figure size 432x288 with 1 Axes>"
      ]
     },
     "metadata": {
      "needs_background": "light"
     },
     "output_type": "display_data"
    },
    {
     "name": "stdout",
     "output_type": "stream",
     "text": [
      "288 288 303\n"
     ]
    },
    {
     "name": "stderr",
     "output_type": "stream",
     "text": [
      "Clipping input data to the valid range for imshow with RGB data ([0..1] for floats or [0..255] for integers).\n"
     ]
    },
    {
     "data": {
      "image/png": "[encoded data removed]",
      "text/plain": [
       "<Figure size 432x288 with 1 Axes>"
      ]
     },
     "metadata": {
      "needs_background": "light"
     },
     "output_type": "display_data"
    },
    {
     "name": "stdout",
     "output_type": "stream",
     "text": [
      "304 304 319\n"
     ]
    },
    {
     "name": "stderr",
     "output_type": "stream",
     "text": [
      "Clipping input data to the valid range for imshow with RGB data ([0..1] for floats or [0..255] for integers).\n"
     ]
    },
    {
     "data": {
      "image/png": "[encoded data removed]",
      "text/plain": [
       "<Figure size 432x288 with 1 Axes>"
      ]
     },
     "metadata": {
      "needs_background": "light"
     },
     "output_type": "display_data"
    },
    {
     "name": "stdout",
     "output_type": "stream",
     "text": [
      "320 320 335\n"
     ]
    },
    {
     "name": "stderr",
     "output_type": "stream",
     "text": [
      "Clipping input data to the valid range for imshow with RGB data ([0..1] for floats or [0..255] for integers).\n"
     ]
    },
    {
     "data": {
      "image/png": "[encoded data removed]",
      "text/plain": [
       "<Figure size 432x288 with 1 Axes>"
      ]
     },
     "metadata": {
      "needs_background": "light"
     },
     "output_type": "display_data"
    },
    {
     "name": "stdout",
     "output_type": "stream",
     "text": [
      "336 336 351\n"
     ]
    },
    {
     "name": "stderr",
     "output_type": "stream",
     "text": [
      "Clipping input data to the valid range for imshow with RGB data ([0..1] for floats or [0..255] for integers).\n"
     ]
    },
    {
     "data": {
      "image/png": "[encoded data removed]",
      "text/plain": [
       "<Figure size 432x288 with 1 Axes>"
      ]
     },
     "metadata": {
      "needs_background": "light"
     },
     "output_type": "display_data"
    },
    {
     "name": "stdout",
     "output_type": "stream",
     "text": [
      "352 352 367\n"
     ]
    },
    {
     "name": "stderr",
     "output_type": "stream",
     "text": [
      "Clipping input data to the valid range for imshow with RGB data ([0..1] for floats or [0..255] for integers).\n"
     ]
    },
    {
     "data": {
      "image/png": "[encoded data removed]",
      "text/plain": [
       "<Figure size 432x288 with 1 Axes>"
      ]
     },
     "metadata": {
      "needs_background": "light"
     },
     "output_type": "display_data"
    },
    {
     "name": "stdout",
     "output_type": "stream",
     "text": [
      "368 368 383\n"
     ]
    },
    {
     "name": "stderr",
     "output_type": "stream",
     "text": [
      "Clipping input data to the valid range for imshow with RGB data ([0..1] for floats or [0..255] for integers).\n"
     ]
    },
    {
     "data": {
      "image/png": "[encoded data removed]",
      "text/plain": [
       "<Figure size 432x288 with 1 Axes>"
      ]
     },
     "metadata": {
      "needs_background": "light"
     },
     "output_type": "display_data"
    },
    {
     "name": "stdout",
     "output_type": "stream",
     "text": [
      "384 384 399\n"
     ]
    },
    {
     "name": "stderr",
     "output_type": "stream",
     "text": [
      "Clipping input data to the valid range for imshow with RGB data ([0..1] for floats or [0..255] for integers).\n"
     ]
    },
    {
     "data": {
      "image/png": "[encoded data removed]",
      "text/plain": [
       "<Figure size 432x288 with 1 Axes>"
      ]
     },
     "metadata": {
      "needs_background": "light"
     },
     "output_type": "display_data"
    },
    {
     "name": "stdout",
     "output_type": "stream",
     "text": [
      "400 400 415\n"
     ]
    },
    {
     "name": "stderr",
     "output_type": "stream",
     "text": [
      "Clipping input data to the valid range for imshow with RGB data ([0..1] for floats or [0..255] for integers).\n"
     ]
    },
    {
     "data": {
      "image/png": "[encoded data removed]",
      "text/plain": [
       "<Figure size 432x288 with 1 Axes>"
      ]
     },
     "metadata": {
      "needs_background": "light"
     },
     "output_type": "display_data"
    },
    {
     "name": "stdout",
     "output_type": "stream",
     "text": [
      "416 416 431\n"
     ]
    },
    {
     "name": "stderr",
     "output_type": "stream",
     "text": [
      "Clipping input data to the valid range for imshow with RGB data ([0..1] for floats or [0..255] for integers).\n"
     ]
    },
    {
     "data": {
      "image/png": "[encoded data removed]",
      "text/plain": [
       "<Figure size 432x288 with 1 Axes>"
      ]
     },
     "metadata": {
      "needs_background": "light"
     },
     "output_type": "display_data"
    },
    {
     "name": "stdout",
     "output_type": "stream",
     "text": [
      "432 432 447\n"
     ]
    },
    {
     "name": "stderr",
     "output_type": "stream",
     "text": [
      "Clipping input data to the valid range for imshow with RGB data ([0..1] for floats or [0..255] for integers).\n"
     ]
    },
    {
     "data": {
      "image/png": "[encoded data removed]",
      "text/plain": [
       "<Figure size 432x288 with 1 Axes>"
      ]
     },
     "metadata": {
      "needs_background": "light"
     },
     "output_type": "display_data"
    },
    {
     "name": "stderr",
     "output_type": "stream",
     "text": [
      "Clipping input data to the valid range for imshow with RGB data ([0..1] for floats or [0..255] for integers).\n"
     ]
    },
    {
     "name": "stdout",
     "output_type": "stream",
     "text": [
      "448 448 463\n"
     ]
    },
    {
     "data": {
      "image/png": "[encoded data removed]",
      "text/plain": [
       "<Figure size 432x288 with 1 Axes>"
      ]
     },
     "metadata": {
      "needs_background": "light"
     },
     "output_type": "display_data"
    },
    {
     "name": "stderr",
     "output_type": "stream",
     "text": [
      "Clipping input data to the valid range for imshow with RGB data ([0..1] for floats or [0..255] for integers).\n"
     ]
    },
    {
     "name": "stdout",
     "output_type": "stream",
     "text": [
      "464 464 479\n"
     ]
    },
    {
     "data": {
      "image/png": "[encoded data removed]",
      "text/plain": [
       "<Figure size 432x288 with 1 Axes>"
      ]
     },
     "metadata": {
      "needs_background": "light"
     },
     "output_type": "display_data"
    },
    {
     "name": "stdout",
     "output_type": "stream",
     "text": [
      "480 480 495\n"
     ]
    }
   ],
   "source": [
    "imgdir = '../evocraft-2022/imgs'\n",
    "x = 0\n",
    "for imgfile in os.listdir(imgdir):\n",
    "    imgfile = imgdir+'/'+imgfile\n",
    "    img = plt.imread(imgfile)\n",
    "    img = img[::img.shape[0]//16, :: img.shape[1]//16]\n",
    "    newimg, blockids = get_mc_structure(img)\n",
    "    x+=img.shape[0]\n",
    "    \n",
    "    plt.imshow(newimg)\n",
    "    plt.show()\n",
    "    \n",
    "    mc_spawn_img(newimg, blockids, x)"
   ]
  },
  {
   "cell_type": "code",
   "execution_count": null,
   "id": "7308d49d-7dfd-45e0-8c1e-c0c7575c0c39",
   "metadata": {},
   "outputs": [],
   "source": []
  },
  {
   "cell_type": "code",
   "execution_count": null,
   "id": "d363b31f-e397-4f65-bd28-85a667682442",
   "metadata": {},
   "outputs": [],
   "source": []
  },
  {
   "cell_type": "code",
   "execution_count": 84,
   "id": "ae964000-db86-49d1-a282-fdc4a19a32b0",
   "metadata": {},
   "outputs": [
    {
     "data": {
      "image/png": "[encoded data removed]",
      "text/plain": [
       "<Figure size 432x288 with 1 Axes>"
      ]
     },
     "metadata": {
      "needs_background": "light"
     },
     "output_type": "display_data"
    },
    {
     "name": "stderr",
     "output_type": "stream",
     "text": [
      "Clipping input data to the valid range for imshow with RGB data ([0..1] for floats or [0..255] for integers).\n"
     ]
    },
    {
     "data": {
      "image/png": "[encoded data removed]",
      "text/plain": [
       "<Figure size 432x288 with 1 Axes>"
      ]
     },
     "metadata": {
      "needs_background": "light"
     },
     "output_type": "display_data"
    }
   ],
   "source": [
    "\n",
    "plt.imshow(img)\n",
    "plt.show()\n",
    "plt.imshow(newimg)\n",
    "plt.show()"
   ]
  },
  {
   "cell_type": "code",
   "execution_count": 85,
   "id": "5acd2f77-72c6-4e5c-95d9-9d1ade4de9f6",
   "metadata": {},
   "outputs": [
    {
     "data": {
      "text/plain": []
     },
     "execution_count": 85,
     "metadata": {},
     "output_type": "execute_result"
    }
   ],
   "source": []
  },
  {
   "cell_type": "code",
   "execution_count": 82,
   "id": "71347293-9aa4-40d9-848d-85ffc288c63a",
   "metadata": {},
   "outputs": [
    {
     "data": {
      "text/plain": []
     },
     "execution_count": 82,
     "metadata": {},
     "output_type": "execute_result"
    }
   ],
   "source": [
    "blocks = [Block(position=Point(x=0, y=10, z=1), type=48, orientation=NORTH)]\n",
    "client.spawnBlocks(Blocks(blocks=blocks))\n"
   ]
  },
  {
   "cell_type": "code",
   "execution_count": 73,
   "id": "e1df35a4-17c7-48fb-bb57-ed7ce8a5a59d",
   "metadata": {},
   "outputs": [
    {
     "data": {
      "text/plain": [
       "array([ 48,  48,  48,  48,  48,  48,  48,  48,  48,  48,  48,  48,  48,\n",
       "        48,  48,  48,  48,  48,  48,  48,  48,  48,  48, 125,  48,  48,\n",
       "        48,  48,  48,  48,  48,  48,  48,  48,  48,  98,  48,  48,  48,\n",
       "       125,  48,  48,  48,  48,  48,  48,  48,  48,  48,  48,  98,  98,\n",
       "        98,  98,  98, 125, 151,  98,  98,  98,  98,  48,  48,  48,  48,\n",
       "        98,  98,  25, 152, 152, 125, 125, 125, 185, 152, 125,  98,  98,\n",
       "        48,  48,  48,  98, 185, 152, 185, 152, 185, 185, 185, 185, 185,\n",
       "        98, 152,  98,  48,  48,  48,  48, 185, 152, 152, 185,  45, 152,\n",
       "       185, 152, 185, 125, 152,  98,  18,  48,  48,  48, 185, 152, 185,\n",
       "       152, 152, 185, 152, 152, 152, 125, 125,  98,  18,  48,  48,  48,\n",
       "       185, 185, 152, 152, 152,  45, 152, 185,  45,  98,  98,  98,  48,\n",
       "        48,  48,  48,  98, 185, 185, 152, 152, 152,  45, 152, 125,  98,\n",
       "        98,  18,  48,  48,  48,  48,  98,  98, 125, 152, 152, 152, 152,\n",
       "       152,  98,  98,  18,  18,  48,  48,  48,  48, 185,  25, 125, 152,\n",
       "       185, 152, 152, 185, 185,  48,  48,  48,  48,  48,  48,  48,  48,\n",
       "        25,  25, 152, 152, 152,  25, 185, 217, 217,  48, 217,  48,  48,\n",
       "        48,  48,  48, 185, 185, 185, 185, 185, 185, 185,  48,  48,  48,\n",
       "       217,  48,  48,  48,  48,  48,  48, 151, 151, 151, 151, 151,  48,\n",
       "        48,  48,  48,  98,  96,  48,  48,  48,  48,  48,  48,  48, 151,\n",
       "        48,  48,  96,  48,  48,  48,  48,  48,  48])"
      ]
     },
     "execution_count": 73,
     "metadata": {},
     "output_type": "execute_result"
    }
   ],
   "source": [
    "block_ids"
   ]
  },
  {
   "cell_type": "code",
   "execution_count": null,
   "id": "7f929e1c-1dbb-4905-90b5-e6ac6d956c32",
   "metadata": {},
   "outputs": [],
   "source": []
  },
  {
   "cell_type": "code",
   "execution_count": null,
   "id": "2a13f357-cbfa-45ee-a50c-1a180f538ca1",
   "metadata": {},
   "outputs": [],
   "source": []
  },
  {
   "cell_type": "code",
   "execution_count": null,
   "id": "5e8f9666-757a-48d4-b309-edb0e5cb8e97",
   "metadata": {},
   "outputs": [],
   "source": []
  },
  {
   "cell_type": "code",
   "execution_count": 69,
   "id": "3943522a-f8d5-4758-b4df-ec5d9f8e4765",
   "metadata": {},
   "outputs": [
    {
     "data": {
      "text/plain": [
       "{'ACACIA_DOOR': 0, 'NORTH': 0}"
      ]
     },
     "execution_count": 69,
     "metadata": {},
     "output_type": "execute_result"
    }
   ],
   "source": [
    "{i: getattr(minecraft_pb2, i) for i in dir(minecraft_pb2) if getattr(minecraft_pb2, i)==0}\n",
    "\n",
    "\n",
    "\n"
   ]
  },
  {
   "cell_type": "code",
   "execution_count": null,
   "id": "f4234411-c6a3-400c-a25d-a527230f58b7",
   "metadata": {},
   "outputs": [],
   "source": []
  },
  {
   "cell_type": "code",
   "execution_count": null,
   "id": "9ed7d92c-af07-4337-86d6-93c6665e4704",
   "metadata": {},
   "outputs": [],
   "source": []
  },
  {
   "cell_type": "code",
   "execution_count": null,
   "id": "c28f1585-1c16-41e2-94c2-273e7442a946",
   "metadata": {},
   "outputs": [],
   "source": []
  },
  {
   "cell_type": "code",
   "execution_count": null,
   "id": "fecdc494-3376-45d1-bf99-1869734895a5",
   "metadata": {},
   "outputs": [],
   "source": []
  },
  {
   "cell_type": "code",
   "execution_count": null,
   "id": "114aee92-682a-475c-9dc6-de2c77b0cd7c",
   "metadata": {},
   "outputs": [],
   "source": []
  },
  {
   "cell_type": "code",
   "execution_count": null,
   "id": "cab9dc22-4797-481f-ac54-5e9e777ccc67",
   "metadata": {},
   "outputs": [],
   "source": []
  }
 ],
 "metadata": {
  "kernelspec": {
   "display_name": "Python 3 (ipykernel)",
   "language": "python",
   "name": "python3"
  },
  "language_info": {
   "codemirror_mode": {
    "name": "ipython",
    "version": 3
   },
   "file_extension": ".py",
   "mimetype": "text/x-python",
   "name": "python",
   "nbconvert_exporter": "python",
   "pygments_lexer": "ipython3",
   "version": "3.9.5"
  }
 },
 "nbformat": 4,
 "nbformat_minor": 5
}
