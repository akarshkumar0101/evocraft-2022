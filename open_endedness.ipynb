{
 "cells": [
  {
   "cell_type": "code",
   "execution_count": 4,
   "id": "0a9b9b12-7596-4d43-a0a0-0c08841cb320",
   "metadata": {},
   "outputs": [
    {
     "data": {
      "text/plain": [
       "True"
      ]
     },
     "execution_count": 4,
     "metadata": {},
     "output_type": "execute_result"
    }
   ],
   "source": [
    "from dotenv import load_dotenv\n",
    "load_dotenv()"
   ]
  },
  {
   "cell_type": "code",
   "execution_count": 5,
   "id": "0436b02a-1685-4386-91d5-c6f90092e8df",
   "metadata": {},
   "outputs": [
    {
     "data": {
      "text/plain": [
       "<OpenAIObject text_completion id=cmpl-5DTl6DGcVSzSsJWQcAkJ7gcuPivmj at 0x2b6785e71450> JSON: {\n",
       "  \"choices\": [\n",
       "    {\n",
       "      \"finish_reason\": \"stop\",\n",
       "      \"index\": 0,\n",
       "      \"logprobs\": null,\n",
       "      \"text\": \"\\n\\ncollar, leash, food, water, toys, treats, Obedience, tracking, herding, show.\"\n",
       "    }\n",
       "  ],\n",
       "  \"created\": 1653894340,\n",
       "  \"id\": \"cmpl-5DTl6DGcVSzSsJWQcAkJ7gcuPivmj\",\n",
       "  \"model\": \"text-davinci-002\",\n",
       "  \"object\": \"text_completion\"\n",
       "}"
      ]
     },
     "execution_count": 5,
     "metadata": {},
     "output_type": "execute_result"
    }
   ],
   "source": [
    "import os\n",
    "import openai\n",
    "openai.api_key = os.getenv(\"OPENAI_API_KEY\")\n",
    "reply = openai.Completion.create(\n",
    "  engine=\"text-davinci-002\",\n",
    "  prompt=\"In a comma-separated list, give me ten one-word nouns related to dog:\",\n",
    "  max_tokens=2000\n",
    ")\n",
    "reply"
   ]
  },
  {
   "cell_type": "code",
   "execution_count": null,
   "id": "dc38a909-bc47-4b6f-b3db-8abc1ed34ced",
   "metadata": {},
   "outputs": [],
   "source": []
  },
  {
   "cell_type": "code",
   "execution_count": null,
   "id": "cc72f47a-7a7a-48ba-9043-4b49dcd070e7",
   "metadata": {},
   "outputs": [],
   "source": []
  },
  {
   "cell_type": "code",
   "execution_count": 6,
   "id": "926c9879-9adf-459d-af6c-7f00bdd8f253",
   "metadata": {},
   "outputs": [],
   "source": [
    "import re"
   ]
  },
  {
   "cell_type": "code",
   "execution_count": 8,
   "id": "e9394a10-eabf-4cdd-8bfd-c06c6a8300d7",
   "metadata": {},
   "outputs": [],
   "source": [
    "import numpy as np"
   ]
  },
  {
   "cell_type": "code",
   "execution_count": 24,
   "id": "944c4de5-e188-4255-8868-fc1e79c5117e",
   "metadata": {},
   "outputs": [
    {
     "data": {
      "text/plain": [
       "array(['pooch', 'canine', 'mutt', 'pup', 'retriever', 'shepherd',\n",
       "       'rottweiler', 'doberman', 'jackrussell', 'labrador'], dtype='<U11')"
      ]
     },
     "execution_count": 24,
     "metadata": {},
     "output_type": "execute_result"
    }
   ],
   "source": [
    "import time\n",
    "\n",
    "min_time_between_calls = 1.01\n",
    "\n",
    "time_previous_call = time.perf_counter_ns()\n",
    "\n",
    "def calc_children_concepts(concept, prompt=\"In a comma-separated list, give me ten one-word objects related to '{}':\"):\n",
    "    global time_previous_call\n",
    "    time_call = time.perf_counter_ns()\n",
    "    \n",
    "    dt = (time_call-time_previous_call)/1000000000\n",
    "    if dt < min_time_between_calls:\n",
    "        time.sleep(min_time_between_calls-dt)\n",
    "    time_previous_call = time_call\n",
    "    \n",
    "    prompt = prompt.format(concept)\n",
    "    response = openai.Completion.create(\n",
    "        engine=\"text-davinci-001\",\n",
    "        prompt=prompt,\n",
    "        temperature=0,\n",
    "        max_tokens=50,\n",
    "    )\n",
    "    \n",
    "    response = response[\"choices\"][0].text\n",
    "    response = response.strip().replace(' ', '')\n",
    "    \n",
    "    response = response.replace(',', '\\n')\n",
    "    response = re.sub(r\"\\d+\\.\", \"\", response)\n",
    "    response = response.lower()\n",
    "    \n",
    "    return np.array(response.replace(' ', '').split('\\n'))\n",
    "\n",
    "\n",
    "calc_children_concepts('dog')\n"
   ]
  },
  {
   "cell_type": "code",
   "execution_count": null,
   "id": "8fb49712-6748-4435-b874-69740f1819a3",
   "metadata": {},
   "outputs": [],
   "source": []
  },
  {
   "cell_type": "code",
   "execution_count": null,
   "id": "7a224bc4-6219-4751-ac12-6dbdcc88cbeb",
   "metadata": {},
   "outputs": [],
   "source": []
  },
  {
   "cell_type": "code",
   "execution_count": null,
   "id": "8a3f3db2-0ae9-44c7-8ef1-09b682d148dc",
   "metadata": {},
   "outputs": [],
   "source": []
  },
  {
   "cell_type": "code",
   "execution_count": 5,
   "id": "8ba154de-4b69-4fc7-a408-ea29d7ebae44",
   "metadata": {},
   "outputs": [],
   "source": [
    "import torch\n",
    "import numpy as np\n",
    "import matplotlib.pyplot as plt\n",
    "import clip\n",
    "from PIL import Image"
   ]
  },
  {
   "cell_type": "code",
   "execution_count": 6,
   "id": "4d45b415-f881-4a87-84d5-a922b9df241c",
   "metadata": {},
   "outputs": [],
   "source": [
    "device = \"cuda\" if torch.cuda.is_available() else \"cpu\"\n",
    "model, preprocess = clip.load(\"ViT-B/32\", device=device)"
   ]
  },
  {
   "cell_type": "code",
   "execution_count": 7,
   "id": "652058e2-9c0b-4c04-87c2-30a855cd459a",
   "metadata": {},
   "outputs": [],
   "source": [
    "# image = preprocess(Image.open(\"dog.jpg\")).unsqueeze(0).to(device)"
   ]
  },
  {
   "cell_type": "code",
   "execution_count": 8,
   "id": "4217552e-fa3f-4cb8-a303-436c2ef325a1",
   "metadata": {},
   "outputs": [
    {
     "ename": "NameError",
     "evalue": "name 'text' is not defined",
     "output_type": "error",
     "traceback": [
      "\u001b[0;31m---------------------------------------------------------------------------\u001b[0m",
      "\u001b[0;31mNameError\u001b[0m                                 Traceback (most recent call last)",
      "\u001b[0;32m/var/folders/pw/m6gcpl8j3nn4yk4y5wt7_9rh0000gn/T/ipykernel_9836/4062718579.py\u001b[0m in \u001b[0;36m<module>\u001b[0;34m\u001b[0m\n\u001b[1;32m      1\u001b[0m \u001b[0;32mwith\u001b[0m \u001b[0mtorch\u001b[0m\u001b[0;34m.\u001b[0m\u001b[0mno_grad\u001b[0m\u001b[0;34m(\u001b[0m\u001b[0;34m)\u001b[0m\u001b[0;34m:\u001b[0m\u001b[0;34m\u001b[0m\u001b[0;34m\u001b[0m\u001b[0m\n\u001b[1;32m      2\u001b[0m     \u001b[0;31m# image_features = model.encode_image(image)\u001b[0m\u001b[0;34m\u001b[0m\u001b[0;34m\u001b[0m\u001b[0;34m\u001b[0m\u001b[0m\n\u001b[0;32m----> 3\u001b[0;31m     \u001b[0mtext_features\u001b[0m \u001b[0;34m=\u001b[0m \u001b[0mmodel\u001b[0m\u001b[0;34m.\u001b[0m\u001b[0mencode_text\u001b[0m\u001b[0;34m(\u001b[0m\u001b[0mtext\u001b[0m\u001b[0;34m)\u001b[0m\u001b[0;34m\u001b[0m\u001b[0;34m\u001b[0m\u001b[0m\n\u001b[0m\u001b[1;32m      4\u001b[0m \u001b[0;34m\u001b[0m\u001b[0m\n\u001b[1;32m      5\u001b[0m     \u001b[0;31m# logits_per_image, logits_per_text = model(image, text)\u001b[0m\u001b[0;34m\u001b[0m\u001b[0;34m\u001b[0m\u001b[0;34m\u001b[0m\u001b[0m\n",
      "\u001b[0;31mNameError\u001b[0m: name 'text' is not defined"
     ]
    }
   ],
   "source": [
    "with torch.no_grad():\n",
    "    # image_features = model.encode_image(image)\n",
    "    text_features = model.encode_text(text)\n",
    "    \n",
    "    # logits_per_image, logits_per_text = model(image, text)\n",
    "    # probs = logits_per_image.softmax(dim=-1).cpu().numpy()\n",
    "\n",
    "# print(\"Label probs:\", probs)  # prints: [[0.9927937  0.00421068 0.00299572]]\n",
    "# image_features.shape, text_features.shape"
   ]
  },
  {
   "cell_type": "code",
   "execution_count": 9,
   "id": "b322a951-7b03-413f-95c6-2791142194c2",
   "metadata": {},
   "outputs": [],
   "source": [
    "def calc_text_features(texts, normalize=True):\n",
    "    x = clip.tokenize(texts).to(device)\n",
    "    with torch.no_grad():\n",
    "        x = model.encode_text(x).detach()\n",
    "    if normalize:\n",
    "        x = x/x.norm(dim=-1, keepdim=True)\n",
    "    return x"
   ]
  },
  {
   "cell_type": "code",
   "execution_count": null,
   "id": "ce4960e5-3a01-4f25-bfc4-59db82831895",
   "metadata": {},
   "outputs": [],
   "source": []
  },
  {
   "cell_type": "code",
   "execution_count": null,
   "id": "6a388cb1-77a4-4c18-984e-0fba48b4410d",
   "metadata": {},
   "outputs": [],
   "source": []
  },
  {
   "cell_type": "code",
   "execution_count": null,
   "id": "306607ec-6449-4adc-a01e-3a0042f49733",
   "metadata": {},
   "outputs": [],
   "source": []
  },
  {
   "cell_type": "code",
   "execution_count": 10,
   "id": "07c58cfe-0254-4c20-b272-465750c0fb02",
   "metadata": {},
   "outputs": [
    {
     "ename": "RateLimitError",
     "evalue": "Rate limit reached for default. Limit: 60.000000 / min. Current: 1880.000000 / min. Contact support@openai.com if you continue to have issues. Please add a payment method to your account to increase your rate limit. Visit https://beta.openai.com/account/billing to add a payment method.",
     "output_type": "error",
     "traceback": [
      "\u001b[0;31m---------------------------------------------------------------------------\u001b[0m",
      "\u001b[0;31mRateLimitError\u001b[0m                            Traceback (most recent call last)",
      "\u001b[0;32m/var/folders/pw/m6gcpl8j3nn4yk4y5wt7_9rh0000gn/T/ipykernel_9836/282226488.py\u001b[0m in \u001b[0;36m<module>\u001b[0;34m\u001b[0m\n\u001b[0;32m----> 1\u001b[0;31m \u001b[0mfeatures\u001b[0m \u001b[0;34m=\u001b[0m \u001b[0mcalc_text_features\u001b[0m\u001b[0;34m(\u001b[0m\u001b[0mcalc_children_concepts\u001b[0m\u001b[0;34m(\u001b[0m\u001b[0;34m'dog'\u001b[0m\u001b[0;34m)\u001b[0m\u001b[0;34m,\u001b[0m \u001b[0mnormalize\u001b[0m\u001b[0;34m=\u001b[0m\u001b[0;32mFalse\u001b[0m\u001b[0;34m)\u001b[0m\u001b[0;34m\u001b[0m\u001b[0;34m\u001b[0m\u001b[0m\n\u001b[0m",
      "\u001b[0;32m/var/folders/pw/m6gcpl8j3nn4yk4y5wt7_9rh0000gn/T/ipykernel_9836/2689031.py\u001b[0m in \u001b[0;36mcalc_children_concepts\u001b[0;34m(concept, prompt)\u001b[0m\n\u001b[1;32m      1\u001b[0m \u001b[0;32mdef\u001b[0m \u001b[0mcalc_children_concepts\u001b[0m\u001b[0;34m(\u001b[0m\u001b[0mconcept\u001b[0m\u001b[0;34m,\u001b[0m \u001b[0mprompt\u001b[0m\u001b[0;34m=\u001b[0m\u001b[0;34m\"In a comma-separated list, give me ten one-word objects related to '{}':\"\u001b[0m\u001b[0;34m)\u001b[0m\u001b[0;34m:\u001b[0m\u001b[0;34m\u001b[0m\u001b[0;34m\u001b[0m\u001b[0m\n\u001b[1;32m      2\u001b[0m     \u001b[0mprompt\u001b[0m \u001b[0;34m=\u001b[0m \u001b[0mprompt\u001b[0m\u001b[0;34m.\u001b[0m\u001b[0mformat\u001b[0m\u001b[0;34m(\u001b[0m\u001b[0mconcept\u001b[0m\u001b[0;34m)\u001b[0m\u001b[0;34m\u001b[0m\u001b[0;34m\u001b[0m\u001b[0m\n\u001b[0;32m----> 3\u001b[0;31m     response = openai.Completion.create(\n\u001b[0m\u001b[1;32m      4\u001b[0m         \u001b[0mengine\u001b[0m\u001b[0;34m=\u001b[0m\u001b[0;34m\"text-davinci-001\"\u001b[0m\u001b[0;34m,\u001b[0m\u001b[0;34m\u001b[0m\u001b[0;34m\u001b[0m\u001b[0m\n\u001b[1;32m      5\u001b[0m         \u001b[0mprompt\u001b[0m\u001b[0;34m=\u001b[0m\u001b[0mprompt\u001b[0m\u001b[0;34m,\u001b[0m\u001b[0;34m\u001b[0m\u001b[0;34m\u001b[0m\u001b[0m\n",
      "\u001b[0;32m~/miniconda3/lib/python3.9/site-packages/openai/api_resources/completion.py\u001b[0m in \u001b[0;36mcreate\u001b[0;34m(cls, *args, **kwargs)\u001b[0m\n\u001b[1;32m     29\u001b[0m         \u001b[0;32mwhile\u001b[0m \u001b[0;32mTrue\u001b[0m\u001b[0;34m:\u001b[0m\u001b[0;34m\u001b[0m\u001b[0;34m\u001b[0m\u001b[0m\n\u001b[1;32m     30\u001b[0m             \u001b[0;32mtry\u001b[0m\u001b[0;34m:\u001b[0m\u001b[0;34m\u001b[0m\u001b[0;34m\u001b[0m\u001b[0m\n\u001b[0;32m---> 31\u001b[0;31m                 \u001b[0;32mreturn\u001b[0m \u001b[0msuper\u001b[0m\u001b[0;34m(\u001b[0m\u001b[0;34m)\u001b[0m\u001b[0;34m.\u001b[0m\u001b[0mcreate\u001b[0m\u001b[0;34m(\u001b[0m\u001b[0;34m*\u001b[0m\u001b[0margs\u001b[0m\u001b[0;34m,\u001b[0m \u001b[0;34m**\u001b[0m\u001b[0mkwargs\u001b[0m\u001b[0;34m)\u001b[0m\u001b[0;34m\u001b[0m\u001b[0;34m\u001b[0m\u001b[0m\n\u001b[0m\u001b[1;32m     32\u001b[0m             \u001b[0;32mexcept\u001b[0m \u001b[0mTryAgain\u001b[0m \u001b[0;32mas\u001b[0m \u001b[0me\u001b[0m\u001b[0;34m:\u001b[0m\u001b[0;34m\u001b[0m\u001b[0;34m\u001b[0m\u001b[0m\n\u001b[1;32m     33\u001b[0m                 \u001b[0;32mif\u001b[0m \u001b[0mtimeout\u001b[0m \u001b[0;32mis\u001b[0m \u001b[0;32mnot\u001b[0m \u001b[0;32mNone\u001b[0m \u001b[0;32mand\u001b[0m \u001b[0mtime\u001b[0m\u001b[0;34m.\u001b[0m\u001b[0mtime\u001b[0m\u001b[0;34m(\u001b[0m\u001b[0;34m)\u001b[0m \u001b[0;34m>\u001b[0m \u001b[0mstart\u001b[0m \u001b[0;34m+\u001b[0m \u001b[0mtimeout\u001b[0m\u001b[0;34m:\u001b[0m\u001b[0;34m\u001b[0m\u001b[0;34m\u001b[0m\u001b[0m\n",
      "\u001b[0;32m~/miniconda3/lib/python3.9/site-packages/openai/api_resources/abstract/engine_api_resource.py\u001b[0m in \u001b[0;36mcreate\u001b[0;34m(cls, api_key, api_base, api_type, request_id, api_version, organization, **params)\u001b[0m\n\u001b[1;32m     98\u001b[0m         )\n\u001b[1;32m     99\u001b[0m         \u001b[0murl\u001b[0m \u001b[0;34m=\u001b[0m \u001b[0mcls\u001b[0m\u001b[0;34m.\u001b[0m\u001b[0mclass_url\u001b[0m\u001b[0;34m(\u001b[0m\u001b[0mengine\u001b[0m\u001b[0;34m,\u001b[0m \u001b[0mapi_type\u001b[0m\u001b[0;34m,\u001b[0m \u001b[0mapi_version\u001b[0m\u001b[0;34m)\u001b[0m\u001b[0;34m\u001b[0m\u001b[0;34m\u001b[0m\u001b[0m\n\u001b[0;32m--> 100\u001b[0;31m         response, _, api_key = requestor.request(\n\u001b[0m\u001b[1;32m    101\u001b[0m             \u001b[0;34m\"post\"\u001b[0m\u001b[0;34m,\u001b[0m\u001b[0;34m\u001b[0m\u001b[0;34m\u001b[0m\u001b[0m\n\u001b[1;32m    102\u001b[0m             \u001b[0murl\u001b[0m\u001b[0;34m,\u001b[0m\u001b[0;34m\u001b[0m\u001b[0;34m\u001b[0m\u001b[0m\n",
      "\u001b[0;32m~/miniconda3/lib/python3.9/site-packages/openai/api_requestor.py\u001b[0m in \u001b[0;36mrequest\u001b[0;34m(self, method, url, params, headers, files, stream, request_id)\u001b[0m\n\u001b[1;32m    120\u001b[0m             \u001b[0mrequest_id\u001b[0m\u001b[0;34m=\u001b[0m\u001b[0mrequest_id\u001b[0m\u001b[0;34m,\u001b[0m\u001b[0;34m\u001b[0m\u001b[0;34m\u001b[0m\u001b[0m\n\u001b[1;32m    121\u001b[0m         )\n\u001b[0;32m--> 122\u001b[0;31m         \u001b[0mresp\u001b[0m\u001b[0;34m,\u001b[0m \u001b[0mgot_stream\u001b[0m \u001b[0;34m=\u001b[0m \u001b[0mself\u001b[0m\u001b[0;34m.\u001b[0m\u001b[0m_interpret_response\u001b[0m\u001b[0;34m(\u001b[0m\u001b[0mresult\u001b[0m\u001b[0;34m,\u001b[0m \u001b[0mstream\u001b[0m\u001b[0;34m)\u001b[0m\u001b[0;34m\u001b[0m\u001b[0;34m\u001b[0m\u001b[0m\n\u001b[0m\u001b[1;32m    123\u001b[0m         \u001b[0;32mreturn\u001b[0m \u001b[0mresp\u001b[0m\u001b[0;34m,\u001b[0m \u001b[0mgot_stream\u001b[0m\u001b[0;34m,\u001b[0m \u001b[0mself\u001b[0m\u001b[0;34m.\u001b[0m\u001b[0mapi_key\u001b[0m\u001b[0;34m\u001b[0m\u001b[0;34m\u001b[0m\u001b[0m\n\u001b[1;32m    124\u001b[0m \u001b[0;34m\u001b[0m\u001b[0m\n",
      "\u001b[0;32m~/miniconda3/lib/python3.9/site-packages/openai/api_requestor.py\u001b[0m in \u001b[0;36m_interpret_response\u001b[0;34m(self, result, stream)\u001b[0m\n\u001b[1;32m    327\u001b[0m         \u001b[0;32melse\u001b[0m\u001b[0;34m:\u001b[0m\u001b[0;34m\u001b[0m\u001b[0;34m\u001b[0m\u001b[0m\n\u001b[1;32m    328\u001b[0m             return (\n\u001b[0;32m--> 329\u001b[0;31m                 self._interpret_response_line(\n\u001b[0m\u001b[1;32m    330\u001b[0m                     \u001b[0mresult\u001b[0m\u001b[0;34m.\u001b[0m\u001b[0mcontent\u001b[0m\u001b[0;34m,\u001b[0m \u001b[0mresult\u001b[0m\u001b[0;34m.\u001b[0m\u001b[0mstatus_code\u001b[0m\u001b[0;34m,\u001b[0m \u001b[0mresult\u001b[0m\u001b[0;34m.\u001b[0m\u001b[0mheaders\u001b[0m\u001b[0;34m,\u001b[0m \u001b[0mstream\u001b[0m\u001b[0;34m=\u001b[0m\u001b[0;32mFalse\u001b[0m\u001b[0;34m\u001b[0m\u001b[0;34m\u001b[0m\u001b[0m\n\u001b[1;32m    331\u001b[0m                 ),\n",
      "\u001b[0;32m~/miniconda3/lib/python3.9/site-packages/openai/api_requestor.py\u001b[0m in \u001b[0;36m_interpret_response_line\u001b[0;34m(self, rbody, rcode, rheaders, stream)\u001b[0m\n\u001b[1;32m    360\u001b[0m         \u001b[0mstream_error\u001b[0m \u001b[0;34m=\u001b[0m \u001b[0mstream\u001b[0m \u001b[0;32mand\u001b[0m \u001b[0;34m\"error\"\u001b[0m \u001b[0;32min\u001b[0m \u001b[0mresp\u001b[0m\u001b[0;34m.\u001b[0m\u001b[0mdata\u001b[0m\u001b[0;34m\u001b[0m\u001b[0;34m\u001b[0m\u001b[0m\n\u001b[1;32m    361\u001b[0m         \u001b[0;32mif\u001b[0m \u001b[0mstream_error\u001b[0m \u001b[0;32mor\u001b[0m \u001b[0;32mnot\u001b[0m \u001b[0;36m200\u001b[0m \u001b[0;34m<=\u001b[0m \u001b[0mrcode\u001b[0m \u001b[0;34m<\u001b[0m \u001b[0;36m300\u001b[0m\u001b[0;34m:\u001b[0m\u001b[0;34m\u001b[0m\u001b[0;34m\u001b[0m\u001b[0m\n\u001b[0;32m--> 362\u001b[0;31m             raise self.handle_error_response(\n\u001b[0m\u001b[1;32m    363\u001b[0m                 \u001b[0mrbody\u001b[0m\u001b[0;34m,\u001b[0m \u001b[0mrcode\u001b[0m\u001b[0;34m,\u001b[0m \u001b[0mresp\u001b[0m\u001b[0;34m.\u001b[0m\u001b[0mdata\u001b[0m\u001b[0;34m,\u001b[0m \u001b[0mrheaders\u001b[0m\u001b[0;34m,\u001b[0m \u001b[0mstream_error\u001b[0m\u001b[0;34m=\u001b[0m\u001b[0mstream_error\u001b[0m\u001b[0;34m\u001b[0m\u001b[0;34m\u001b[0m\u001b[0m\n\u001b[1;32m    364\u001b[0m             )\n",
      "\u001b[0;31mRateLimitError\u001b[0m: Rate limit reached for default. Limit: 60.000000 / min. Current: 1880.000000 / min. Contact support@openai.com if you continue to have issues. Please add a payment method to your account to increase your rate limit. Visit https://beta.openai.com/account/billing to add a payment method."
     ]
    }
   ],
   "source": [
    "features = calc_text_features(calc_children_concepts('dog'), normalize=False)\n"
   ]
  },
  {
   "cell_type": "code",
   "execution_count": 11,
   "id": "a0ee9035-5d86-41aa-9ac4-ea0006ed1cdf",
   "metadata": {},
   "outputs": [
    {
     "ename": "NameError",
     "evalue": "name 'features' is not defined",
     "output_type": "error",
     "traceback": [
      "\u001b[0;31m---------------------------------------------------------------------------\u001b[0m",
      "\u001b[0;31mNameError\u001b[0m                                 Traceback (most recent call last)",
      "\u001b[0;32m/var/folders/pw/m6gcpl8j3nn4yk4y5wt7_9rh0000gn/T/ipykernel_9836/2459811654.py\u001b[0m in \u001b[0;36m<module>\u001b[0;34m\u001b[0m\n\u001b[0;32m----> 1\u001b[0;31m \u001b[0mfeatures\u001b[0m\u001b[0;34m.\u001b[0m\u001b[0mnorm\u001b[0m\u001b[0;34m(\u001b[0m\u001b[0mdim\u001b[0m\u001b[0;34m=\u001b[0m\u001b[0;34m-\u001b[0m\u001b[0;36m1\u001b[0m\u001b[0;34m)\u001b[0m\u001b[0;34m\u001b[0m\u001b[0;34m\u001b[0m\u001b[0m\n\u001b[0m",
      "\u001b[0;31mNameError\u001b[0m: name 'features' is not defined"
     ]
    }
   ],
   "source": [
    "features.norm(dim=-1)"
   ]
  },
  {
   "cell_type": "code",
   "execution_count": null,
   "id": "dc003969-5d52-43bd-8d0d-a9748c0ee64b",
   "metadata": {},
   "outputs": [],
   "source": []
  },
  {
   "cell_type": "code",
   "execution_count": 12,
   "id": "9d2d43b8-3729-4e75-9f55-d1449a8a2858",
   "metadata": {},
   "outputs": [],
   "source": [
    "import time"
   ]
  },
  {
   "cell_type": "code",
   "execution_count": 13,
   "id": "f8fe9cfc-f4d1-4d95-89a5-5f53435009e0",
   "metadata": {},
   "outputs": [],
   "source": [
    "import random"
   ]
  },
  {
   "cell_type": "code",
   "execution_count": null,
   "id": "1f04f64a-98b4-4344-8c0f-ef34f2b13d16",
   "metadata": {},
   "outputs": [],
   "source": []
  },
  {
   "cell_type": "code",
   "execution_count": 14,
   "id": "fc74b2a6-3819-4add-b066-7476eeef200d",
   "metadata": {},
   "outputs": [],
   "source": [
    "from tqdm.notebook import tqdm"
   ]
  },
  {
   "cell_type": "code",
   "execution_count": null,
   "id": "a8ca3015-9f72-4e1d-8412-63af047f8da4",
   "metadata": {},
   "outputs": [],
   "source": []
  },
  {
   "cell_type": "code",
   "execution_count": null,
   "id": "aad13c6e-ed94-488c-baa5-c7a81fd91426",
   "metadata": {},
   "outputs": [],
   "source": []
  },
  {
   "cell_type": "code",
   "execution_count": 15,
   "id": "1f944904-3786-4da6-aa94-df917c531f5f",
   "metadata": {},
   "outputs": [],
   "source": [
    "random.seed(0)\n",
    "def open_ended_run(seed_concept='dog', novelty_metric=None, n_children=3):\n",
    "    \"\"\"\n",
    "    novelty_metric can be either min or avg\n",
    "    \"\"\"\n",
    "    pop = [seed_concept]\n",
    "    pop_features = calc_text_features([seed_concept])\n",
    "    \n",
    "    pop_set = {seed_concept}\n",
    "    \n",
    "    parents = set()\n",
    "    \n",
    "    \n",
    "    min_dists = []\n",
    "    avg_dists = []\n",
    "    \n",
    "    concept = seed_concept\n",
    "    for i in tqdm(range(100000)):\n",
    "        parents.add(concept)\n",
    "        \n",
    "        try:\n",
    "            children = calc_children_concepts(concept)\n",
    "        except:\n",
    "            print('skipping')\n",
    "            continue\n",
    "        children = np.array([c for c in children if c not in pop_set])\n",
    "        \n",
    "        if len(children)<n_children:\n",
    "            continue\n",
    "        \n",
    "        children_features = calc_text_features(children)\n",
    "        \n",
    "        dots = children_features@pop_features.T\n",
    "        min_dist_to_pop = dots.max(dim=-1).values\n",
    "        avg_dist_to_pop = dots.mean(dim=-1)\n",
    "        \n",
    "        if novelty_metric is None:\n",
    "            idx = np.arange(10)\n",
    "        elif novelty_metric == 'min':\n",
    "            idx = min_dist_to_pop.argsort(dim=0)\n",
    "        elif novelty_metric == 'avg':\n",
    "            idx = avg_dist_to_pop.argsort(dim=0)\n",
    "        idx = idx[:n_children]\n",
    "        \n",
    "        \n",
    "        min_dists.append(min_dist_to_pop[idx].mean().item())\n",
    "        avg_dists.append(avg_dist_to_pop[idx].mean().item())\n",
    "        \n",
    "        pop.extend(children[idx])\n",
    "        pop_set.update(children[idx])\n",
    "        pop_features = torch.cat([pop_features, children_features[idx]], dim=0)\n",
    "        \n",
    "        \n",
    "        # print(f'Chosen parent: {concept} || Children: {children[idx]}')\n",
    "        concept = random.choice(list(pop_set.difference(parents)))\n",
    "        \n",
    "        \n",
    "        # rather than randomly sampling a concept from the set, we should use a queue which priorirtizes novel concepts\n",
    "        # rather than computing how novel a concept is each time (which takes n^2).\n",
    "        # we only use how novel it is WHEN it was originally formulated as a child. This is already being done and has no overhead.\n",
    "    \n",
    "        # print((pop_features@pop_features.T).mean())\n",
    "        # print(min_dist_to_pop[idx].mean().item())\n",
    "        # print(avg_dist_to_pop[idx].mean().item())\n",
    "        \n",
    "        \n",
    "        if i%30==0:\n",
    "            print(f'Chosen parent: {concept} || Children: {children[idx]}')\n",
    "            plt.plot(min_dists, label='min')\n",
    "            plt.plot(avg_dists, label='avg')\n",
    "            plt.show()"
   ]
  },
  {
   "cell_type": "code",
   "execution_count": null,
   "id": "e1e8b7ef-dd15-44d9-8982-ac494b7ac437",
   "metadata": {},
   "outputs": [
    {
     "data": {
      "application/vnd.jupyter.widget-view+json": {
       "model_id": "ceb0bf9444794f55b56abb1560be7403",
       "version_major": 2,
       "version_minor": 0
      },
      "text/plain": [
       "  0%|          | 0/100000 [00:00<?, ?it/s]"
      ]
     },
     "metadata": {},
     "output_type": "display_data"
    }
   ],
   "source": [
    "open_ended_run('apple', novelty_metric='min')"
   ]
  },
  {
   "cell_type": "code",
   "execution_count": null,
   "id": "97ebf573-33b9-4fd5-b674-ec5ef977e0b7",
   "metadata": {},
   "outputs": [],
   "source": []
  },
  {
   "cell_type": "code",
   "execution_count": null,
   "id": "fd22ea4c-fd65-453c-b4ea-e89170c6b298",
   "metadata": {},
   "outputs": [],
   "source": []
  },
  {
   "cell_type": "code",
   "execution_count": null,
   "id": "28b95bd1-9211-47f6-8047-49ddeccd9b57",
   "metadata": {},
   "outputs": [],
   "source": []
  },
  {
   "cell_type": "code",
   "execution_count": null,
   "id": "a79f1101-29d2-410d-ac0a-32d4a086b566",
   "metadata": {},
   "outputs": [],
   "source": []
  },
  {
   "cell_type": "code",
   "execution_count": null,
   "id": "527b036b-03b9-42cd-bfa5-9acce97a2628",
   "metadata": {},
   "outputs": [],
   "source": []
  },
  {
   "cell_type": "code",
   "execution_count": 199,
   "id": "1dd9e9cb-c905-4dd8-85b3-54f71ece0004",
   "metadata": {},
   "outputs": [
    {
     "name": "stdout",
     "output_type": "stream",
     "text": [
      "Chosen parent: apple || Children: ['red' 'green' 'bite']\n",
      "tensor(0.8216)\n",
      "Chosen parent: bite || Children: ['swallow' 'teeth' 'mouth']\n",
      "tensor(0.8060)\n",
      "Chosen parent: teeth || Children: ['plaque' 'pulp' 'periodontitis']\n",
      "tensor(0.7739)\n",
      "Chosen parent: red || Children: ['burgundy' 'maroon' 'cardinal']\n",
      "tensor(0.7464)\n",
      "Chosen parent: pulp || Children: ['audience' 'reading' 'magazine']\n",
      "tensor(0.7560)\n",
      "Chosen parent: audience || Children: ['adherents' 'adherents' 'audiences']\n",
      "tensor(0.7544)\n",
      "Chosen parent: burgundy || Children: ['grape' 'france' 'province']\n",
      "tensor(0.7606)\n",
      "Chosen parent: france || Children: ['paris' 'bread' 'cheese']\n",
      "tensor(0.7655)\n",
      "Chosen parent: adherents || Children: ['participants' 'devotees' 'disciples']\n",
      "tensor(0.7702)\n",
      "Chosen parent: maroon || Children: ['tincture' 'dye' 'pigment']\n",
      "tensor(0.7698)\n",
      "Chosen parent: participants || Children: ['spectators' 'delegates' 'contributors']\n",
      "tensor(0.7731)\n",
      "Chosen parent: grape || Children: ['grapefruitseedextract' 'grapefruitjuice' 'grapefruit']\n",
      "tensor(0.7658)\n",
      "Chosen parent: delegates || Children: ['speakers' 'meeting' 'hotel']\n",
      "tensor(0.7682)\n",
      "Chosen parent: contributors || Children: ['guests' 'panelists' 'authors']\n",
      "tensor(0.7686)\n",
      "Chosen parent: plaque || Children: ['tooth' 'tooth' 'tooth']\n",
      "tensor(0.7728)\n",
      "Chosen parent: mouth || Children: ['tongue' 'tongue' 'lips']\n",
      "tensor(0.7699)\n",
      "Chosen parent: bread || Children: ['loaf' 'flour' 'yeast']\n",
      "tensor(0.7675)\n",
      "Chosen parent: meeting || Children: ['powwow' 'summit' 'seminar']\n",
      "tensor(0.7687)\n",
      "Chosen parent: tongue || Children: ['expression' 'opinion' 'drink']\n",
      "tensor(0.7729)\n",
      "Chosen parent: powwow || Children: ['celebration' 'workshop' 'conference']\n",
      "tensor(0.7763)\n",
      "Chosen parent: guests || Children: ['visitors' 'lovedones' 'occasion']\n",
      "tensor(0.7791)\n",
      "Chosen parent: cheese || Children: ['nutmeg' 'cream' 'eggs']\n",
      "tensor(0.7775)\n",
      "Chosen parent: green || Children: ['leaves' 'tree' 'sky']\n",
      "tensor(0.7761)\n",
      "Chosen parent: magazine || Children: ['newsprint' 'ink' 'broadsheet']\n",
      "tensor(0.7771)\n",
      "Chosen parent: audiences || Children: ['shoppers' 'readers' 'listeners']\n",
      "tensor(0.7795)\n",
      "Chosen parent: speakers || Children: ['cables' 'ipod' 'amplifiers']\n",
      "tensor(0.7787)\n",
      "Chosen parent: disciples || Children: ['apprentices' 'servants' 'worshipers']\n",
      "tensor(0.7797)\n",
      "Chosen parent: flour || Children: ['dough' 'cookies' 'baking']\n",
      "tensor(0.7807)\n",
      "Chosen parent: authors || Children: ['playwrights' 'scribes' 'biographers']\n",
      "tensor(0.7814)\n"
     ]
    },
    {
     "ename": "RateLimitError",
     "evalue": "Rate limit reached for default. Limit: 60.000000 / min. Current: 64.000000 / min. Contact support@openai.com if you continue to have issues. Please add a payment method to your account to increase your rate limit. Visit https://beta.openai.com/account/billing to add a payment method.",
     "output_type": "error",
     "traceback": [
      "\u001b[0;31m---------------------------------------------------------------------------\u001b[0m",
      "\u001b[0;31mRateLimitError\u001b[0m                            Traceback (most recent call last)",
      "\u001b[0;32m/var/folders/pw/m6gcpl8j3nn4yk4y5wt7_9rh0000gn/T/ipykernel_2741/2162321830.py\u001b[0m in \u001b[0;36m<module>\u001b[0;34m\u001b[0m\n\u001b[0;32m----> 1\u001b[0;31m \u001b[0mopen_ended_run\u001b[0m\u001b[0;34m(\u001b[0m\u001b[0;34m'apple'\u001b[0m\u001b[0;34m,\u001b[0m \u001b[0mnovelty_metric\u001b[0m\u001b[0;34m=\u001b[0m\u001b[0;34m'avg'\u001b[0m\u001b[0;34m)\u001b[0m\u001b[0;34m\u001b[0m\u001b[0;34m\u001b[0m\u001b[0m\n\u001b[0m",
      "\u001b[0;32m/var/folders/pw/m6gcpl8j3nn4yk4y5wt7_9rh0000gn/T/ipykernel_2741/1118831277.py\u001b[0m in \u001b[0;36mopen_ended_run\u001b[0;34m(seed_concept, novelty_metric)\u001b[0m\n\u001b[1;32m     15\u001b[0m         \u001b[0mparents\u001b[0m\u001b[0;34m.\u001b[0m\u001b[0madd\u001b[0m\u001b[0;34m(\u001b[0m\u001b[0mconcept\u001b[0m\u001b[0;34m)\u001b[0m\u001b[0;34m\u001b[0m\u001b[0;34m\u001b[0m\u001b[0m\n\u001b[1;32m     16\u001b[0m \u001b[0;34m\u001b[0m\u001b[0m\n\u001b[0;32m---> 17\u001b[0;31m         \u001b[0mchildren\u001b[0m \u001b[0;34m=\u001b[0m \u001b[0mcalc_children_concepts\u001b[0m\u001b[0;34m(\u001b[0m\u001b[0mconcept\u001b[0m\u001b[0;34m)\u001b[0m\u001b[0;34m\u001b[0m\u001b[0;34m\u001b[0m\u001b[0m\n\u001b[0m\u001b[1;32m     18\u001b[0m         \u001b[0mchildren\u001b[0m \u001b[0;34m=\u001b[0m \u001b[0mnp\u001b[0m\u001b[0;34m.\u001b[0m\u001b[0marray\u001b[0m\u001b[0;34m(\u001b[0m\u001b[0;34m[\u001b[0m\u001b[0mc\u001b[0m \u001b[0;32mfor\u001b[0m \u001b[0mc\u001b[0m \u001b[0;32min\u001b[0m \u001b[0mchildren\u001b[0m \u001b[0;32mif\u001b[0m \u001b[0mc\u001b[0m \u001b[0;32mnot\u001b[0m \u001b[0;32min\u001b[0m \u001b[0mpop_set\u001b[0m\u001b[0;34m]\u001b[0m\u001b[0;34m)\u001b[0m\u001b[0;34m\u001b[0m\u001b[0;34m\u001b[0m\u001b[0m\n\u001b[1;32m     19\u001b[0m \u001b[0;34m\u001b[0m\u001b[0m\n",
      "\u001b[0;32m/var/folders/pw/m6gcpl8j3nn4yk4y5wt7_9rh0000gn/T/ipykernel_2741/2520083408.py\u001b[0m in \u001b[0;36mcalc_children_concepts\u001b[0;34m(concept, prompt)\u001b[0m\n\u001b[1;32m      1\u001b[0m \u001b[0;32mdef\u001b[0m \u001b[0mcalc_children_concepts\u001b[0m\u001b[0;34m(\u001b[0m\u001b[0mconcept\u001b[0m\u001b[0;34m,\u001b[0m \u001b[0mprompt\u001b[0m\u001b[0;34m=\u001b[0m\u001b[0;34m\"In a comma-separated list, give me ten one-word nouns related to '{}':\"\u001b[0m\u001b[0;34m)\u001b[0m\u001b[0;34m:\u001b[0m\u001b[0;34m\u001b[0m\u001b[0;34m\u001b[0m\u001b[0m\n\u001b[1;32m      2\u001b[0m     \u001b[0mprompt\u001b[0m \u001b[0;34m=\u001b[0m \u001b[0mprompt\u001b[0m\u001b[0;34m.\u001b[0m\u001b[0mformat\u001b[0m\u001b[0;34m(\u001b[0m\u001b[0mconcept\u001b[0m\u001b[0;34m)\u001b[0m\u001b[0;34m\u001b[0m\u001b[0;34m\u001b[0m\u001b[0m\n\u001b[0;32m----> 3\u001b[0;31m     response = openai.Completion.create(\n\u001b[0m\u001b[1;32m      4\u001b[0m         \u001b[0mengine\u001b[0m\u001b[0;34m=\u001b[0m\u001b[0;34m\"text-davinci-001\"\u001b[0m\u001b[0;34m,\u001b[0m\u001b[0;34m\u001b[0m\u001b[0;34m\u001b[0m\u001b[0m\n\u001b[1;32m      5\u001b[0m         \u001b[0mprompt\u001b[0m\u001b[0;34m=\u001b[0m\u001b[0mprompt\u001b[0m\u001b[0;34m,\u001b[0m\u001b[0;34m\u001b[0m\u001b[0;34m\u001b[0m\u001b[0m\n",
      "\u001b[0;32m~/miniconda3/lib/python3.9/site-packages/openai/api_resources/completion.py\u001b[0m in \u001b[0;36mcreate\u001b[0;34m(cls, *args, **kwargs)\u001b[0m\n\u001b[1;32m     29\u001b[0m         \u001b[0;32mwhile\u001b[0m \u001b[0;32mTrue\u001b[0m\u001b[0;34m:\u001b[0m\u001b[0;34m\u001b[0m\u001b[0;34m\u001b[0m\u001b[0m\n\u001b[1;32m     30\u001b[0m             \u001b[0;32mtry\u001b[0m\u001b[0;34m:\u001b[0m\u001b[0;34m\u001b[0m\u001b[0;34m\u001b[0m\u001b[0m\n\u001b[0;32m---> 31\u001b[0;31m                 \u001b[0;32mreturn\u001b[0m \u001b[0msuper\u001b[0m\u001b[0;34m(\u001b[0m\u001b[0;34m)\u001b[0m\u001b[0;34m.\u001b[0m\u001b[0mcreate\u001b[0m\u001b[0;34m(\u001b[0m\u001b[0;34m*\u001b[0m\u001b[0margs\u001b[0m\u001b[0;34m,\u001b[0m \u001b[0;34m**\u001b[0m\u001b[0mkwargs\u001b[0m\u001b[0;34m)\u001b[0m\u001b[0;34m\u001b[0m\u001b[0;34m\u001b[0m\u001b[0m\n\u001b[0m\u001b[1;32m     32\u001b[0m             \u001b[0;32mexcept\u001b[0m \u001b[0mTryAgain\u001b[0m \u001b[0;32mas\u001b[0m \u001b[0me\u001b[0m\u001b[0;34m:\u001b[0m\u001b[0;34m\u001b[0m\u001b[0;34m\u001b[0m\u001b[0m\n\u001b[1;32m     33\u001b[0m                 \u001b[0;32mif\u001b[0m \u001b[0mtimeout\u001b[0m \u001b[0;32mis\u001b[0m \u001b[0;32mnot\u001b[0m \u001b[0;32mNone\u001b[0m \u001b[0;32mand\u001b[0m \u001b[0mtime\u001b[0m\u001b[0;34m.\u001b[0m\u001b[0mtime\u001b[0m\u001b[0;34m(\u001b[0m\u001b[0;34m)\u001b[0m \u001b[0;34m>\u001b[0m \u001b[0mstart\u001b[0m \u001b[0;34m+\u001b[0m \u001b[0mtimeout\u001b[0m\u001b[0;34m:\u001b[0m\u001b[0;34m\u001b[0m\u001b[0;34m\u001b[0m\u001b[0m\n",
      "\u001b[0;32m~/miniconda3/lib/python3.9/site-packages/openai/api_resources/abstract/engine_api_resource.py\u001b[0m in \u001b[0;36mcreate\u001b[0;34m(cls, api_key, api_base, api_type, request_id, api_version, organization, **params)\u001b[0m\n\u001b[1;32m     98\u001b[0m         )\n\u001b[1;32m     99\u001b[0m         \u001b[0murl\u001b[0m \u001b[0;34m=\u001b[0m \u001b[0mcls\u001b[0m\u001b[0;34m.\u001b[0m\u001b[0mclass_url\u001b[0m\u001b[0;34m(\u001b[0m\u001b[0mengine\u001b[0m\u001b[0;34m,\u001b[0m \u001b[0mapi_type\u001b[0m\u001b[0;34m,\u001b[0m \u001b[0mapi_version\u001b[0m\u001b[0;34m)\u001b[0m\u001b[0;34m\u001b[0m\u001b[0;34m\u001b[0m\u001b[0m\n\u001b[0;32m--> 100\u001b[0;31m         response, _, api_key = requestor.request(\n\u001b[0m\u001b[1;32m    101\u001b[0m             \u001b[0;34m\"post\"\u001b[0m\u001b[0;34m,\u001b[0m\u001b[0;34m\u001b[0m\u001b[0;34m\u001b[0m\u001b[0m\n\u001b[1;32m    102\u001b[0m             \u001b[0murl\u001b[0m\u001b[0;34m,\u001b[0m\u001b[0;34m\u001b[0m\u001b[0;34m\u001b[0m\u001b[0m\n",
      "\u001b[0;32m~/miniconda3/lib/python3.9/site-packages/openai/api_requestor.py\u001b[0m in \u001b[0;36mrequest\u001b[0;34m(self, method, url, params, headers, files, stream, request_id)\u001b[0m\n\u001b[1;32m    120\u001b[0m             \u001b[0mrequest_id\u001b[0m\u001b[0;34m=\u001b[0m\u001b[0mrequest_id\u001b[0m\u001b[0;34m,\u001b[0m\u001b[0;34m\u001b[0m\u001b[0;34m\u001b[0m\u001b[0m\n\u001b[1;32m    121\u001b[0m         )\n\u001b[0;32m--> 122\u001b[0;31m         \u001b[0mresp\u001b[0m\u001b[0;34m,\u001b[0m \u001b[0mgot_stream\u001b[0m \u001b[0;34m=\u001b[0m \u001b[0mself\u001b[0m\u001b[0;34m.\u001b[0m\u001b[0m_interpret_response\u001b[0m\u001b[0;34m(\u001b[0m\u001b[0mresult\u001b[0m\u001b[0;34m,\u001b[0m \u001b[0mstream\u001b[0m\u001b[0;34m)\u001b[0m\u001b[0;34m\u001b[0m\u001b[0;34m\u001b[0m\u001b[0m\n\u001b[0m\u001b[1;32m    123\u001b[0m         \u001b[0;32mreturn\u001b[0m \u001b[0mresp\u001b[0m\u001b[0;34m,\u001b[0m \u001b[0mgot_stream\u001b[0m\u001b[0;34m,\u001b[0m \u001b[0mself\u001b[0m\u001b[0;34m.\u001b[0m\u001b[0mapi_key\u001b[0m\u001b[0;34m\u001b[0m\u001b[0;34m\u001b[0m\u001b[0m\n\u001b[1;32m    124\u001b[0m \u001b[0;34m\u001b[0m\u001b[0m\n",
      "\u001b[0;32m~/miniconda3/lib/python3.9/site-packages/openai/api_requestor.py\u001b[0m in \u001b[0;36m_interpret_response\u001b[0;34m(self, result, stream)\u001b[0m\n\u001b[1;32m    327\u001b[0m         \u001b[0;32melse\u001b[0m\u001b[0;34m:\u001b[0m\u001b[0;34m\u001b[0m\u001b[0;34m\u001b[0m\u001b[0m\n\u001b[1;32m    328\u001b[0m             return (\n\u001b[0;32m--> 329\u001b[0;31m                 self._interpret_response_line(\n\u001b[0m\u001b[1;32m    330\u001b[0m                     \u001b[0mresult\u001b[0m\u001b[0;34m.\u001b[0m\u001b[0mcontent\u001b[0m\u001b[0;34m,\u001b[0m \u001b[0mresult\u001b[0m\u001b[0;34m.\u001b[0m\u001b[0mstatus_code\u001b[0m\u001b[0;34m,\u001b[0m \u001b[0mresult\u001b[0m\u001b[0;34m.\u001b[0m\u001b[0mheaders\u001b[0m\u001b[0;34m,\u001b[0m \u001b[0mstream\u001b[0m\u001b[0;34m=\u001b[0m\u001b[0;32mFalse\u001b[0m\u001b[0;34m\u001b[0m\u001b[0;34m\u001b[0m\u001b[0m\n\u001b[1;32m    331\u001b[0m                 ),\n",
      "\u001b[0;32m~/miniconda3/lib/python3.9/site-packages/openai/api_requestor.py\u001b[0m in \u001b[0;36m_interpret_response_line\u001b[0;34m(self, rbody, rcode, rheaders, stream)\u001b[0m\n\u001b[1;32m    360\u001b[0m         \u001b[0mstream_error\u001b[0m \u001b[0;34m=\u001b[0m \u001b[0mstream\u001b[0m \u001b[0;32mand\u001b[0m \u001b[0;34m\"error\"\u001b[0m \u001b[0;32min\u001b[0m \u001b[0mresp\u001b[0m\u001b[0;34m.\u001b[0m\u001b[0mdata\u001b[0m\u001b[0;34m\u001b[0m\u001b[0;34m\u001b[0m\u001b[0m\n\u001b[1;32m    361\u001b[0m         \u001b[0;32mif\u001b[0m \u001b[0mstream_error\u001b[0m \u001b[0;32mor\u001b[0m \u001b[0;32mnot\u001b[0m \u001b[0;36m200\u001b[0m \u001b[0;34m<=\u001b[0m \u001b[0mrcode\u001b[0m \u001b[0;34m<\u001b[0m \u001b[0;36m300\u001b[0m\u001b[0;34m:\u001b[0m\u001b[0;34m\u001b[0m\u001b[0;34m\u001b[0m\u001b[0m\n\u001b[0;32m--> 362\u001b[0;31m             raise self.handle_error_response(\n\u001b[0m\u001b[1;32m    363\u001b[0m                 \u001b[0mrbody\u001b[0m\u001b[0;34m,\u001b[0m \u001b[0mrcode\u001b[0m\u001b[0;34m,\u001b[0m \u001b[0mresp\u001b[0m\u001b[0;34m.\u001b[0m\u001b[0mdata\u001b[0m\u001b[0;34m,\u001b[0m \u001b[0mrheaders\u001b[0m\u001b[0;34m,\u001b[0m \u001b[0mstream_error\u001b[0m\u001b[0;34m=\u001b[0m\u001b[0mstream_error\u001b[0m\u001b[0;34m\u001b[0m\u001b[0;34m\u001b[0m\u001b[0m\n\u001b[1;32m    364\u001b[0m             )\n",
      "\u001b[0;31mRateLimitError\u001b[0m: Rate limit reached for default. Limit: 60.000000 / min. Current: 64.000000 / min. Contact support@openai.com if you continue to have issues. Please add a payment method to your account to increase your rate limit. Visit https://beta.openai.com/account/billing to add a payment method."
     ]
    }
   ],
   "source": [
    "open_ended_run('apple', novelty_metric='avg')"
   ]
  },
  {
   "cell_type": "code",
   "execution_count": null,
   "id": "3114ccfc-5a15-4b63-9193-593a3012a70b",
   "metadata": {},
   "outputs": [],
   "source": [
    "# sum of distance to closest neighbhor\n",
    "\n"
   ]
  },
  {
   "cell_type": "code",
   "execution_count": null,
   "id": "d8b0a73a-10b5-423b-b78a-800b43a1fc5d",
   "metadata": {},
   "outputs": [],
   "source": []
  },
  {
   "cell_type": "code",
   "execution_count": null,
   "id": "a3864dd8-dc4f-42f1-81d1-eb5af1addd35",
   "metadata": {},
   "outputs": [],
   "source": []
  },
  {
   "cell_type": "code",
   "execution_count": 200,
   "id": "11fc1bac-b387-423e-a93e-c2a4dcd4823f",
   "metadata": {},
   "outputs": [
    {
     "name": "stdout",
     "output_type": "stream",
     "text": [
      "Chosen parent: apple || Children: ['red' 'green' 'bite']\n",
      "tensor(0.8216)\n",
      "Chosen parent: red || Children: ['burgundy' 'cardinal' 'maroon']\n",
      "tensor(0.7788)\n",
      "Chosen parent: burgundy || Children: ['drink' 'province' 'country']\n",
      "tensor(0.7801)\n",
      "Chosen parent: maroon || Children: ['tincture' 'paint' 'ink']\n",
      "tensor(0.7803)\n",
      "Chosen parent: country || Children: ['hayfield' 'fence' 'pasture']\n",
      "tensor(0.7707)\n",
      "Chosen parent: tincture || Children: ['extract' 'oil' 'infusion']\n",
      "tensor(0.7782)\n",
      "Chosen parent: province || Children: ['capital' 'customs' 'administration']\n",
      "tensor(0.7826)\n",
      "Chosen parent: infusion || Children: ['pot' 'mug' 'cup']\n",
      "tensor(0.7862)\n",
      "Chosen parent: drink || Children: ['cocktail' 'tea' 'beer']\n",
      "tensor(0.7895)\n",
      "Chosen parent: cocktail || Children: ['pub' 'recipe' 'spirits']\n",
      "tensor(0.7939)\n",
      "Chosen parent: extract || Children: ['extractor' 'extractorfan' 'extractiveindustry']\n",
      "tensor(0.7913)\n",
      "Chosen parent: pot || Children: ['stove' 'saucepan' 'spoon']\n",
      "tensor(0.7885)\n",
      "Chosen parent: oil || Children: ['sheen' 'drilling' 'pipeline']\n",
      "tensor(0.7846)\n",
      "Chosen parent: cardinal || Children: ['vestment' 'priest' 'bird']\n",
      "tensor(0.7857)\n",
      "Chosen parent: paint || Children: ['paintpaletteknife' 'paintcanopener' 'painttray']\n",
      "tensor(0.7774)\n",
      "Chosen parent: mug || Children: ['mugcake' 'thermalmug' 'glassmug']\n",
      "tensor(0.7744)\n",
      "Chosen parent: tea || Children: ['leaves' 'steep' 'cuppa']\n",
      "tensor(0.7728)\n",
      "Chosen parent: priest || Children: ['minister' 'christianity' 'church']\n",
      "tensor(0.7747)\n",
      "Chosen parent: saucepan || Children: ['skillet' 'teapot' 'casserole']\n",
      "tensor(0.7696)\n",
      "Chosen parent: vestment || Children: ['chasuble' 'cassock' 'gown']\n",
      "tensor(0.7637)\n",
      "Chosen parent: bite || Children: ['swallow' 'eat' 'teeth']\n",
      "tensor(0.7644)\n",
      "Chosen parent: leaves || Children: ['orange' 'yellow' 'october']\n",
      "tensor(0.7617)\n",
      "Chosen parent: painttray || Children: ['colors' 'brush' 'masterpiece']\n",
      "tensor(0.7649)\n",
      "Chosen parent: beer || Children: ['pilsner' 'fermentation' 'hops']\n",
      "tensor(0.7632)\n",
      "Chosen parent: casserole || Children: ['casserolefork' 'casserolecheese' 'casserolespoon']\n",
      "tensor(0.7623)\n",
      "Chosen parent: chasuble || Children: ['mantle' 'cloak' 'cover']\n",
      "tensor(0.7614)\n",
      "Chosen parent: swallow || Children: ['nest' 'air' 'eggs']\n",
      "tensor(0.7626)\n",
      "Chosen parent: gown || Children: ['hospitalgown' 'skirt' 'maternitygown']\n",
      "tensor(0.7578)\n",
      "Chosen parent: minister || Children: ['diplomat' 'envoy' 'cabinet']\n",
      "tensor(0.7568)\n",
      "Chosen parent: casserolespoon || Children: ['kitchen' 'dish' 'cooking']\n",
      "tensor(0.7584)\n"
     ]
    }
   ],
   "source": [
    "open_ended_run('apple', novelty_metric='min')"
   ]
  },
  {
   "cell_type": "code",
   "execution_count": null,
   "id": "b3e85dcd-e43e-4388-8cb1-a5d40073d611",
   "metadata": {},
   "outputs": [],
   "source": []
  },
  {
   "cell_type": "code",
   "execution_count": null,
   "id": "79412588-cfef-4265-a4f9-9a8472e85f9b",
   "metadata": {},
   "outputs": [],
   "source": []
  },
  {
   "cell_type": "code",
   "execution_count": null,
   "id": "2a3e2648-b90a-4874-8846-a235d1895ba2",
   "metadata": {},
   "outputs": [],
   "source": []
  },
  {
   "cell_type": "code",
   "execution_count": null,
   "id": "fafff400-de76-40de-8172-74d9d31670f2",
   "metadata": {},
   "outputs": [],
   "source": []
  },
  {
   "cell_type": "code",
   "execution_count": null,
   "id": "6c1b5212-8479-414c-9818-8d1ef5f25352",
   "metadata": {},
   "outputs": [],
   "source": []
  },
  {
   "cell_type": "code",
   "execution_count": null,
   "id": "01a9f8a7-f686-4eb2-99b4-f669b507a31d",
   "metadata": {},
   "outputs": [],
   "source": []
  },
  {
   "cell_type": "code",
   "execution_count": 107,
   "id": "cf765914-38e2-4ed9-bb4a-af1f90390878",
   "metadata": {},
   "outputs": [],
   "source": [
    "\n",
    "a = calc_children_concepts('cat')\n",
    "x = calc_text_features(a)\n"
   ]
  },
  {
   "cell_type": "code",
   "execution_count": 121,
   "id": "04739f23-6a45-4584-851a-ea609a40c0e9",
   "metadata": {},
   "outputs": [
    {
     "data": {
      "text/plain": [
       "<matplotlib.colorbar.Colorbar at 0x7fa4fb5c6af0>"
      ]
     },
     "execution_count": 121,
     "metadata": {},
     "output_type": "execute_result"
    },
    {
     "data": {
      "image/png": "[encoded data removed]",
      "text/plain": [
       "<Figure size 432x288 with 2 Axes>"
      ]
     },
     "metadata": {
      "needs_background": "light"
     },
     "output_type": "display_data"
    }
   ],
   "source": [
    "plt.imshow(x@x.T)\n",
    "plt.colorbar()"
   ]
  },
  {
   "cell_type": "code",
   "execution_count": null,
   "id": "1e610241-962a-4bc2-a1dc-87aa0bb2215d",
   "metadata": {},
   "outputs": [],
   "source": []
  },
  {
   "cell_type": "code",
   "execution_count": null,
   "id": "9e43baa7-637e-4c7e-ada5-3b64c49d8988",
   "metadata": {},
   "outputs": [],
   "source": []
  },
  {
   "cell_type": "code",
   "execution_count": null,
   "id": "eb140132-d31f-4423-81cc-67daea161b24",
   "metadata": {},
   "outputs": [],
   "source": []
  },
  {
   "cell_type": "code",
   "execution_count": null,
   "id": "6e56feee-858f-47c3-9ea0-03796c740a14",
   "metadata": {},
   "outputs": [],
   "source": []
  },
  {
   "cell_type": "code",
   "execution_count": null,
   "id": "f36b44de-92df-4d8f-82a0-7a98f31f7371",
   "metadata": {},
   "outputs": [],
   "source": []
  },
  {
   "cell_type": "code",
   "execution_count": null,
   "id": "cabdaf41-f2cc-4555-8c37-e34a2b0bf0c2",
   "metadata": {},
   "outputs": [],
   "source": []
  },
  {
   "cell_type": "code",
   "execution_count": null,
   "id": "40b4ee32-b180-4a1a-be9c-2dd4ae3dd525",
   "metadata": {},
   "outputs": [],
   "source": []
  },
  {
   "cell_type": "code",
   "execution_count": null,
   "id": "5bee5301-e768-473e-b112-6bec54e2700d",
   "metadata": {},
   "outputs": [],
   "source": []
  }
 ],
 "metadata": {
  "kernelspec": {
   "display_name": "Python 3 (ipykernel)",
   "language": "python",
   "name": "python3"
  },
  "language_info": {
   "codemirror_mode": {
    "name": "ipython",
    "version": 3
   },
   "file_extension": ".py",
   "mimetype": "text/x-python",
   "name": "python",
   "nbconvert_exporter": "python",
   "pygments_lexer": "ipython3",
   "version": "3.8.13"
  }
 },
 "nbformat": 4,
 "nbformat_minor": 5
}
